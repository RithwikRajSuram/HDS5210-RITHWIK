{
  "cells": [
    {
      "cell_type": "markdown",
      "metadata": {
        "id": "view-in-github",
        "colab_type": "text"
      },
      "source": [
        "<a href=\"https://colab.research.google.com/github/RithwikRajSuram/HDS5210-RITHWIK/blob/main/week12_assignment_2.ipynb\" target=\"_parent\"><img src=\"https://colab.research.google.com/assets/colab-badge.svg\" alt=\"Open In Colab\"/></a>"
      ]
    },
    {
      "cell_type": "markdown",
      "metadata": {
        "id": "sqe6pU3v2Wx-"
      },
      "source": [
        "# Week 11 Assignment\n",
        "\n",
        "\n",
        "Please do the programming exercise and verify that your code works using the tests, then think about your final project and fill out the questions in the second part.\n",
        "\n",
        "---\n",
        "---"
      ]
    },
    {
      "cell_type": "markdown",
      "metadata": {
        "id": "SbGgal4b2Wx_"
      },
      "source": [
        "### 47.1: Filtering and summarizing data\n",
        "\n",
        "For this work, you'll find a data file in `https://hds5210-data.s3.amazonaws.com/complications_all.csv`.\n",
        "\n",
        "Read in the data file and create a variable called `mo_hospitals` that contains a data frame from the `complications_all.csv` file, filtered down to only contain those hospitals from the state of Missouri (MO).\n",
        "\n",
        "Then aggregate that data by hospital into a variable named `mo_summary`.  There are some key fields that we want to summarize:\n",
        "* We want to know the earliest date that each hospital was participating in any program\n",
        "* We want to know the latest date that each hospital stopped participating in any program\n",
        "* We want to know the total number of patients in the denominators of these programs\n",
        "\n",
        "Some things to note:\n",
        "* You will need to convert the `Start Date` and `End Date` to actual datetime fields\n",
        "* You will need to clean up and convert the `Denominator` field to just be numeric - the rule that you should use it to simply remove any records where the `Denominator` is `'Not Available'`\n",
        "\n",
        "\n",
        "The final result of this step should be a new data frame called `mo_summary` that contains one row for each hospital and contains the min start date, max end date, and total denominator.  Use the names `start_date`, `end_date`, and `number` for those columns in `mo_summary`.\n",
        "\n",
        "\n",
        "You do not need to create your code in the form of a function, just make sure your variable names match what I've described above so the tests work."
      ]
    },
    {
      "cell_type": "code",
      "execution_count": 1,
      "metadata": {
        "id": "piBd9_0H2WyA"
      },
      "outputs": [],
      "source": [
        "import pandas as pd\n",
        "# This is just to show you the name to use for the variable you need to create for this step to pass.\n",
        "all_hospitals = pd.read_csv('https://hds5210-data.s3.amazonaws.com/complications_all.csv')\n"
      ]
    },
    {
      "cell_type": "code",
      "execution_count": 2,
      "metadata": {
        "colab": {
          "base_uri": "https://localhost:8080/"
        },
        "id": "CO1MxjKz2WyA",
        "outputId": "db112d67-8f52-4aa6-fe1b-5b5cb0c7c848"
      },
      "outputs": [
        {
          "output_type": "stream",
          "name": "stdout",
          "text": [
            "                                    start_date   end_date    number\n",
            "Facility Name                                                      \n",
            "BARNES JEWISH HOSPITAL              2015-04-01 2018-06-30  131313.0\n",
            "BARNES-JEWISH ST PETERS HOSPITAL    2015-04-01 2018-06-30   15668.0\n",
            "BARNES-JEWISH WEST COUNTY HOSPITAL  2015-04-01 2018-06-30    9622.0\n",
            "BATES COUNTY MEMORIAL HOSPITAL      2015-07-01 2018-06-30    3117.0\n",
            "BELTON REGIONAL MEDICAL CENTER      2015-04-01 2018-06-30    9270.0\n",
            "...                                        ...        ...       ...\n",
            "TRUMAN MEDICAL CENTER LAKEWOOD      2015-04-01 2018-06-30    4297.0\n",
            "UNIVERSITY OF MISSOURI HEALTH CARE  2015-04-01 2018-06-30   56493.0\n",
            "WASHINGTON COUNTY MEMORIAL HOSPITAL 2015-07-01 2018-06-30     220.0\n",
            "WESTERN MISSOURI MEDICAL CENTER     2015-04-01 2018-06-30    7254.0\n",
            "WRIGHT MEMORIAL HOSPITAL            2015-07-01 2018-06-30     198.0\n",
            "\n",
            "[108 rows x 3 columns]\n"
          ]
        }
      ],
      "source": [
        "mo_hospitals = all_hospitals[all_hospitals['State'] == 'MO'].copy()\n",
        "\n",
        "# Step 2: Clean the Denominator column\n",
        "# Convert 'Denominator' to numeric, coercing errors to NaN\n",
        "mo_hospitals['Denominator'] = pd.to_numeric(mo_hospitals['Denominator'], errors='coerce')\n",
        "\n",
        "# Remove rows where Denominator is NaN\n",
        "mo_hospitals = mo_hospitals.dropna(subset=['Denominator'])\n",
        "\n",
        "# Step 3: Convert 'Start Date' and 'End Date' columns to datetime\n",
        "mo_hospitals['Start Date'] = pd.to_datetime(mo_hospitals['Start Date'], errors='coerce')\n",
        "mo_hospitals['End Date'] = pd.to_datetime(mo_hospitals['End Date'], errors='coerce')\n",
        "\n",
        "# Step 4: Aggregate the data by Hospital Name\n",
        "mo_summary = mo_hospitals.groupby('Facility Name').agg(\n",
        "    start_date=('Start Date', 'min'),   # Earliest start date\n",
        "    end_date=('End Date', 'max'),       # Latest end date\n",
        "    number=('Denominator', 'sum')       # Sum of denominators\n",
        ").reset_index()\n",
        "\n",
        "# Step 5: Set the 'Facility Name' as the index\n",
        "mo_summary.set_index('Facility Name', inplace=True)\n",
        "\n",
        "# Final output\n",
        "print(mo_summary)"
      ]
    },
    {
      "cell_type": "code",
      "execution_count": 3,
      "metadata": {
        "id": "1we0qEuk2WyB"
      },
      "outputs": [],
      "source": [
        "assert(mo_summary['number'].sum() == 1766908)\n",
        "assert(mo_summary['start_date'].min() == pd.Timestamp(2015,4,1))\n",
        "assert(mo_summary['end_date'].max() == pd.Timestamp(2018,6,30))\n",
        "assert(mo_summary.shape == (108,3))\n",
        "assert(mo_summary.loc['BARNES JEWISH HOSPITAL'].number == 131313)\n",
        "assert(mo_summary.loc['BOONE HOSPITAL CENTER'].number == 63099)"
      ]
    },
    {
      "cell_type": "markdown",
      "metadata": {
        "id": "QTiSPfN-2WyB"
      },
      "source": [
        "---\n",
        "\n",
        "### 47.2 Planning your final project\n",
        "\n",
        "You should be thinking about the things we've been learning and how you can apply them to your final project.  Use the rubric to help guid your thinking and then answer the questions below.  This is meant as a guide to help you think through what you will do."
      ]
    },
    {
      "cell_type": "markdown",
      "metadata": {
        "id": "iZ-SMYvq2WyB"
      },
      "source": [
        "#### A) Data Access\n",
        "\n",
        "Your project should include data from at least three distinct types of sources.  For example: AWS S3, Relational Databases, Internet, Web Services, local files.  List what data sources you're planning to use."
      ]
    },
    {
      "cell_type": "markdown",
      "metadata": {
        "id": "4eMSMnN32WyB"
      },
      "source": [
        "**Double-click to enter your answer**\n",
        "\n",
        "My final project is \"Medicare Durable Medical Equipment, Devices & Supplies - by Referring Provider.\" from data.cms.gov (https://data.cms.gov/). For this project on Medicare Durable Medical Equipment (DME) referrals, I plan to access data from at least three distinct sources: an API providing Medicare claims data, an AWS S3 bucket containing provider and device-related datasets, and local files storing supplemental cost data and regulatory documents."
      ]
    },
    {
      "cell_type": "markdown",
      "metadata": {
        "id": "gm5QDpG32WyB"
      },
      "source": [
        "#### B. Data Formats\n",
        "\n",
        "Your project should include data that comes in different file formats.  For example: HL7, EDI, HTML, CSV, Excel, JSON, XML.  List what data formats you're planning to use."
      ]
    },
    {
      "cell_type": "markdown",
      "metadata": {
        "id": "ySoa0nmo2WyB"
      },
      "source": [
        "**Double-click to enter your answer**\n",
        "\n",
        "\n",
        "The data sources will encompass various formats, including CSV files from AWS S3, JSON responses from the API, and Excel files for additional analysis. Combining these data sources and formats ensures a comprehensive approach to analyzing referral patterns, identifying anomalies, and visualizing insights effectively.\n",
        "\n"
      ]
    },
    {
      "cell_type": "markdown",
      "metadata": {
        "id": "AY8LeXps2WyB"
      },
      "source": [
        "#### C. Objective\n",
        "\n",
        "What purpose would your project serve in a real work setting?  Take a couple of paragraphs to write down why this is an interesting product."
      ]
    },
    {
      "cell_type": "markdown",
      "metadata": {
        "id": "km5KAptX2WyC"
      },
      "source": [
        "**Double-click to enter your answer**\n",
        "\n",
        "The purpose of this project is to explore utilization and distribution of Medicare DME and its referring providers. This analysis will also provide intervention points in medical equipment referral patterns, reveal different forms of wastage or fraud, and inform policy changes to enhance the efficiency of costs.\n",
        "The exciting and innovative undertakings relate to essential questions of healthcare costs, specifically the area of Medicare billing. The project explains how analytics can be used to solve the problems facing the healthcare systems through data integration. For example, knowledge that could be gained might help policy makers and health care leaders in the following areas; training of providers, auditing of highly risky providers, ideal DME usage and patient outcomes."
      ]
    },
    {
      "cell_type": "markdown",
      "metadata": {
        "id": "S9coukTl2WyC"
      },
      "source": [
        "\n",
        "\n",
        "---\n",
        "\n",
        "\n",
        "\n",
        "## Submit your work via GitHub as normal\n"
      ]
    }
  ],
  "metadata": {
    "kernelspec": {
      "display_name": "Python 3",
      "language": "python",
      "name": "python3"
    },
    "language_info": {
      "codemirror_mode": {
        "name": "ipython",
        "version": 3
      },
      "file_extension": ".py",
      "mimetype": "text/x-python",
      "name": "python",
      "nbconvert_exporter": "python",
      "pygments_lexer": "ipython3",
      "version": "3.9.16"
    },
    "colab": {
      "provenance": [],
      "include_colab_link": true
    }
  },
  "nbformat": 4,
  "nbformat_minor": 0
}