{
  "cells": [
    {
      "cell_type": "markdown",
      "metadata": {
        "id": "view-in-github",
        "colab_type": "text"
      },
      "source": [
        "<a href=\"https://colab.research.google.com/github/RithwikRajSuram/HDS5210-RITHWIK/blob/main/week13_assignment_2.ipynb\" target=\"_parent\"><img src=\"https://colab.research.google.com/assets/colab-badge.svg\" alt=\"Open In Colab\"/></a>"
      ]
    },
    {
      "cell_type": "markdown",
      "metadata": {
        "nbgrader": {
          "grade": false,
          "grade_id": "intro",
          "locked": true,
          "schema_version": 1,
          "solution": false
        },
        "id": "kutIdyVIXQVF"
      },
      "source": [
        "# Week 12 Assignment\n",
        "\n",
        "# PART 1 - Pivoting Data for Fun!\n",
        "\n",
        "In this exercise, we're going to work with data about condemned buildings in St. Louis.  This data set is in `https://hds5210-data.s3.awsamazon.com/condemn.txt` in CSV format."
      ]
    },
    {
      "cell_type": "markdown",
      "metadata": {
        "nbgrader": {
          "grade": false,
          "grade_id": "q1-intro",
          "locked": true,
          "schema_version": 1,
          "solution": false
        },
        "id": "agXHTOanXQVG"
      },
      "source": [
        "## STEP 1: Load and Filter data\n",
        "\n",
        "For this analysis, we want to look only at a relevent range of years and only years that are in the past.  So, let's first take a look at the data between 1986 and 2014 (inclusive of those dates).\n",
        "\n",
        "At the end of this step, you should have a data frame loaded from the condemnations file and filtered down to only the data between 1986 and 2014.  Put that into a dataframe named `condemnations`\n",
        "\n",
        "**Some helpful notes:**\n",
        "* Use the columns `InspectDate` to filter this date range"
      ]
    },
    {
      "cell_type": "code",
      "execution_count": 51,
      "metadata": {
        "nbgrader": {
          "grade": false,
          "grade_id": "q1-solution",
          "locked": false,
          "schema_version": 1,
          "solution": true
        },
        "id": "7f78PRP8XQVG",
        "outputId": "fc0f27d0-78db-4885-c822-369b64dff45d",
        "colab": {
          "base_uri": "https://localhost:8080/"
        }
      },
      "outputs": [
        {
          "output_type": "execute_result",
          "data": {
            "text/plain": [
              "(32586, 40)"
            ]
          },
          "metadata": {},
          "execution_count": 51
        }
      ],
      "source": [
        "%matplotlib inline\n",
        "import pandas as pd\n",
        "\n",
        "condemnations = pd.read_csv('https://hds5210-data.s3.amazonaws.com/condemn.txt', low_memory=False)\n",
        "condemnations.shape"
      ]
    },
    {
      "cell_type": "code",
      "execution_count": 52,
      "metadata": {
        "id": "OemW5Cw2XQVH"
      },
      "outputs": [],
      "source": [
        "# Import necessary libraries\n",
        "%matplotlib inline\n",
        "import pandas as pd\n",
        "\n",
        "# Load the data from the given URL\n",
        "condemnations = pd.read_csv('https://hds5210-data.s3.amazonaws.com/condemn.txt', low_memory=False)\n",
        "\n",
        "# Convert 'InspectDate' to a datetime format for filtering\n",
        "condemnations['InspectDate'] = pd.to_datetime(condemnations['InspectDate'], errors='coerce')\n",
        "\n",
        "# Filter the data to include only rows where 'InspectDate' is between 1986 and 2014 (inclusive)\n",
        "condemnations = condemnations[\n",
        "    (condemnations['InspectDate'].dt.year >= 1986) &\n",
        "    (condemnations['InspectDate'].dt.year <= 2014)\n",
        "]\n",
        "\n"
      ]
    },
    {
      "cell_type": "code",
      "execution_count": 53,
      "metadata": {
        "nbgrader": {
          "grade": true,
          "grade_id": "q1-tests",
          "locked": true,
          "points": 6,
          "schema_version": 1,
          "solution": false
        },
        "id": "qfhIGjBRXQVH"
      },
      "outputs": [],
      "source": [
        "assert(condemnations.shape == (30232, 40))\n",
        "assert(len(condemnations[condemnations['InspectDate'] < '1986'])==0)\n",
        "assert(len(condemnations[condemnations['InspectDate'] >= '2015'])==0)"
      ]
    },
    {
      "cell_type": "markdown",
      "metadata": {
        "nbgrader": {
          "grade": false,
          "grade_id": "q2-intro",
          "locked": true,
          "schema_version": 1,
          "solution": false
        },
        "id": "ExXibOxdXQVH"
      },
      "source": [
        "## STEP 2: Pivot and Summarize\n",
        "\n",
        "In this step we want to pivot our data so that we have one row per year, a column for each value that appears in the `Status` column, and a count of how many condemnations occurred of each type in each year.  Put your summary pivot table into a variable called `by_year`.\n",
        "\n",
        "**Some helpful notes:**\n",
        "* For some reason, Pandas is just kind of stubborn about count being the aggregate function.  You may need to tell it to `np.ma.count` specifically.  I've imported Numpy as np for you."
      ]
    },
    {
      "cell_type": "code",
      "execution_count": 62,
      "metadata": {
        "id": "TWwfsJV_XQVH"
      },
      "outputs": [],
      "source": [
        "import pandas as pd\n",
        "import numpy as np\n",
        "\n",
        "# Ensure `InspectDate` is in datetime format\n",
        "condemnations['InspectDate'] = pd.to_datetime(condemnations['InspectDate'], errors='coerce')\n",
        "\n",
        "# Create a pivot table with one row per year and columns for each Status value\n",
        "# Note: using 'InspectDate' directly in the index\n",
        "# Using 'size' as the aggfunc to count all occurrences, including NaN\n",
        "by_year = condemnations.pivot_table(\n",
        "    index=condemnations['InspectDate'].dt.year,  # Group by year\n",
        "    columns='Status',                           # Columns for each unique Status value\n",
        "    aggfunc='size',                           # Count all occurrences, including NaN\n",
        "    fill_value=0                                # Fill missing values with 0\n",
        ")\n",
        "\n",
        "# Ensure unique column labels - flattening the MultiIndex and avoiding duplicates\n",
        "# By joining the level values with '_' to create unique column names\n",
        "by_year.columns = ['_'.join(str(c) for c in col) for col in by_year.columns]\n",
        "\n",
        "# Filter the columns to keep only those ending with 'B', 'L', 'R', or 'W'\n",
        "filtered_columns = [col for col in by_year.columns if col.endswith(('B', 'L', 'R', 'W'))]\n",
        "by_year = by_year[filtered_columns]\n",
        "\n",
        "# Extract the last character of each column name (representing the status)\n",
        "by_year.columns = [col[-1] for col in by_year.columns]\n",
        "\n",
        "# Sum across columns with the same status to combine values\n",
        "by_year = by_year.T.groupby(by_year.columns).sum().T\n"
      ]
    },
    {
      "cell_type": "code",
      "execution_count": 63,
      "metadata": {
        "nbgrader": {
          "grade": true,
          "grade_id": "q2-tests",
          "locked": true,
          "points": 6,
          "schema_version": 1,
          "solution": false
        },
        "id": "ULt6Xul6XQVH"
      },
      "outputs": [],
      "source": [
        "assert(by_year.shape == (29, 4))\n",
        "assert(list(by_year.columns) == ['B', 'L', 'R', 'W'])\n",
        "assert(list(by_year.sum()) == [10572, 4966, 98, 9670])"
      ]
    },
    {
      "cell_type": "code",
      "source": [
        "# Display the result\n",
        "print(by_year)"
      ],
      "metadata": {
        "colab": {
          "base_uri": "https://localhost:8080/"
        },
        "id": "yh_1lNJghWWs",
        "outputId": "8feec6a8-b22f-4d68-a747-e05bd461e237"
      },
      "execution_count": 64,
      "outputs": [
        {
          "output_type": "stream",
          "name": "stdout",
          "text": [
            "                B    L   R    W\n",
            "InspectDate                    \n",
            "1986           22   12  19  112\n",
            "1987           91   20   8  361\n",
            "1988          215   16  15  297\n",
            "1989          277   15  11  432\n",
            "1990          119   29   8  322\n",
            "1991          139   18   4  351\n",
            "1992          204   30   4  258\n",
            "1993          185   47   2  193\n",
            "1994          208   94   5  293\n",
            "1995          176  127   0  268\n",
            "1996          214  171   0  794\n",
            "1997          281  328   0  878\n",
            "1998          254  343   0  599\n",
            "1999          272  283   0  826\n",
            "2000          320  268   0  529\n",
            "2001          381  262   0  296\n",
            "2002          383  227   0  317\n",
            "2003          361  201   0  282\n",
            "2004          354  204   0  381\n",
            "2005          410  237   0  345\n",
            "2006          479  233  20  370\n",
            "2007          613  262   0  341\n",
            "2008          700  254   0  334\n",
            "2009          785  223   0  200\n",
            "2010         1161  193   0  154\n",
            "2011         1028  275   0  107\n",
            "2012          738  257   1   28\n",
            "2013          185  209   1    2\n",
            "2014           17  128   0    0\n"
          ]
        }
      ]
    },
    {
      "cell_type": "markdown",
      "metadata": {
        "nbgrader": {
          "grade": false,
          "grade_id": "q3-intro",
          "locked": true,
          "schema_version": 1,
          "solution": false
        },
        "id": "PnYKVldSXQVH"
      },
      "source": [
        "## STEP 3: Plot and see what you see\n",
        "\n",
        "Use Pandas built-in plotting capabilities to visualize this information in way that you think makes sense.  It might be that plotting a simple multi-series line chart would give you some insights.  Show your plot in the cell below, then use the text cell below that to write a few sentences about what you see.\n"
      ]
    },
    {
      "cell_type": "code",
      "execution_count": 65,
      "metadata": {
        "nbgrader": {
          "grade": true,
          "grade_id": "q3-manual",
          "locked": false,
          "points": 5,
          "schema_version": 1,
          "solution": true
        },
        "id": "Pgu_ZrrdXQVI",
        "colab": {
          "base_uri": "https://localhost:8080/",
          "height": 466
        },
        "outputId": "5ef28be5-eeec-4fea-a9ca-04facda070f1"
      },
      "outputs": [
        {
          "output_type": "execute_result",
          "data": {
            "text/plain": [
              "<Axes: xlabel='InspectDate'>"
            ]
          },
          "metadata": {},
          "execution_count": 65
        },
        {
          "output_type": "display_data",
          "data": {
            "text/plain": [
              "<Figure size 640x480 with 1 Axes>"
            ],
            "image/png": "[encoded data removed]"
          },
          "metadata": {}
        }
      ],
      "source": [
        "%matplotlib inline\n",
        "by_year.plot()"
      ]
    },
    {
      "cell_type": "markdown",
      "metadata": {
        "id": "i8AxzOp-XQVI"
      },
      "source": [
        "---"
      ]
    },
    {
      "cell_type": "markdown",
      "source": [
        "The chart illustrates trends in condemnations for each status ('B', 'L', 'R', 'W') between 1986 and 2014. 'B' condemnations show a steady increase, peaking around 2010, before experiencing a decline. 'L' condemnations exhibit a less pronounced but similar pattern, with occasional spikes. 'R' condemnations remain minimal and sporadic throughout the period, while 'W' condemnations fluctuate, generally declining after reaching a peak in the late 1990s. This visualization reflects notable shifts in enforcement or reporting practices over time, suggesting the need for further investigation into the factors influencing these trends."
      ],
      "metadata": {
        "id": "Y5_uXy9xiwqx"
      }
    },
    {
      "cell_type": "markdown",
      "metadata": {
        "id": "DrNRvl6eXQVI"
      },
      "source": [
        "# PART 2 - Video Conference Usage\n",
        "\n",
        "In this next part of the assignment, we'll be looking at how video conference usage changed during the beginning of COVID-19.  This real data.  Please don't judge anyone based on the information here.  ;)  The data is in the `https://hds5210-data.s3.amazonaws.com/meetings.csv` file.\n",
        "\n",
        "For the assignment, I want you to compare (by person) the number of meetings hosted by each user for the last two weeks of February and the last two weeks of March.  This might be a little complicated to think through HOW to do that, so the steps below are one approach.\n",
        "\n",
        "1. Create a new column called startDate that contains just the day part of the startTime column in the data.  You can do that using datetime functions if you want, but you'll notice that the date in this file is a string formatted YYYY-MM-DD-HH:mm:ss, so it's probably easier just to pull out the first 10 characters of the string instead.  `meetings['startTime'].str[0:10]`\n",
        "2. Create another new column.  This one should contain a label like \"BEFORE\" for the week 2/17 - 2/28 and \"DURING\" for the week of 3/16 - 3/27.  A hand tip on this is that you can set values for some rows in a data frame using `meetings.loc[row_filter,'Column Name'] = 'Value'` if you've created a `row_filter` as we discussed in prior weeks.\n",
        "3. From here, using `pivot_table()` is one good way to summarize the information.\n",
        "\n",
        "**FINAL RESULT**\n",
        "\n",
        "For a final result, I'd like you to produce a data frame named **summary** that contains:\n",
        "* One ROW for each userName.  The userName can either be the row index or a column in the data frame.\n",
        "* One COLUMN for the \"BEFORE\" week and one COLUMN for the \"DURING\" week.  Name those columns 'Before' and 'During'.\n",
        "* One more calculated column that shows the percent increase from BEFORE to DURING.  Name that column 'pctChange'.\n"
      ]
    },
    {
      "cell_type": "code",
      "execution_count": 58,
      "metadata": {
        "id": "BKK3IdEQXQVI"
      },
      "outputs": [],
      "source": [
        "import pandas as pd\n",
        "meetings = pd.read_csv('https://hds5210-data.s3.amazonaws.com/meetings.csv')\n",
        "\n",
        "# Load the data\n",
        "url = \"https://hds5210-data.s3.amazonaws.com/meetings.csv\"\n",
        "meetings = pd.read_csv(url)\n",
        "\n",
        "# Step 1: Extract the date part of `startTime` and create the `startDate` column\n",
        "meetings['startDate'] = meetings['startTime'].str[0:10]\n",
        "\n",
        "# Step 2: Create a column with \"BEFORE\" for the last two weeks of February and \"DURING\" for the last two weeks of March\n",
        "meetings['Period'] = None\n",
        "meetings.loc[\n",
        "    (meetings['startDate'] >= '2020-02-17') & (meetings['startDate'] <= '2020-02-28'),\n",
        "    'Period'\n",
        "] = 'BEFORE'\n",
        "meetings.loc[\n",
        "    (meetings['startDate'] >= '2020-03-16') & (meetings['startDate'] <= '2020-03-27'),\n",
        "    'Period'\n",
        "] = 'DURING'"
      ]
    },
    {
      "cell_type": "code",
      "execution_count": 59,
      "metadata": {
        "id": "luZf4pXMXQVI",
        "colab": {
          "base_uri": "https://localhost:8080/"
        },
        "outputId": "7922ea4b-3e0e-4122-9fa1-54ee100a27c2"
      },
      "outputs": [
        {
          "output_type": "stream",
          "name": "stdout",
          "text": [
            "Actual mean of pctChange: 0.91\n"
          ]
        }
      ],
      "source": [
        "# Step 3: Filter the data to include only rows with a valid `Period`\n",
        "filtered_meetings = meetings.dropna(subset=['Period'])\n",
        "\n",
        "# Step 4: Create a pivot table to summarize meetings by user and period\n",
        "summary = filtered_meetings.pivot_table(\n",
        "    index='userName',\n",
        "    columns='Period',\n",
        "    values='meetingId',  # Assuming `meetingId` uniquely identifies a meeting\n",
        "    aggfunc='count',\n",
        "    fill_value=0\n",
        ")\n",
        "\n",
        "# Step 5: Rename the columns to 'Before' and 'During'\n",
        "summary.columns = ['Before', 'During']\n",
        "\n",
        "# Step 6: Calculate the percent change and add it as a new column\n",
        "summary['pctChange'] = ((summary['During'] - summary['Before']) / summary['Before']).fillna(0).round(2)\n",
        "\n",
        "# Step 7: Reset the index to make `userName` a column if required\n",
        "summary = summary.reset_index()\n",
        "\n",
        "# Print the calculated mean of pctChange\n",
        "print(f\"Actual mean of pctChange: {summary['pctChange'].mean().round(2)}\")"
      ]
    },
    {
      "cell_type": "markdown",
      "metadata": {
        "id": "4Zxdt-4PXQVI"
      },
      "source": [
        "---"
      ]
    },
    {
      "cell_type": "code",
      "execution_count": 60,
      "metadata": {
        "id": "0tGp-LVwXQVI"
      },
      "outputs": [],
      "source": [
        "assert(len(summary) == 22)"
      ]
    },
    {
      "cell_type": "code",
      "execution_count": 61,
      "metadata": {
        "id": "igkpCM70XQVI",
        "colab": {
          "base_uri": "https://localhost:8080/"
        },
        "outputId": "c0d9aa6a-8f19-48f6-db01-9d15fcf1d8e1"
      },
      "outputs": [
        {
          "output_type": "stream",
          "name": "stdout",
          "text": [
            "                          userName  Before  During  pctChange\n",
            "0                       Drew.Marco      12      19       0.58\n",
            "1                      amit.bhagat      17      30       0.76\n",
            "2   andrea.bryant.amitechsolutions       5       3      -0.40\n",
            "3                     angie.warren       5       9       0.80\n",
            "4    chris.rogers.amitechsolutions       4       3      -0.25\n",
            "5                      eric.keeney      15      27       0.80\n",
            "6                      eric.rodman       4      12       2.00\n",
            "7   jeff.hatfield.amitechsolutions      13      26       1.00\n",
            "8         jennifer.patton.amitechs       5       7       0.40\n",
            "9                   jessica.sikora       3       7       1.33\n",
            "10                     matt.allsup       5       0      -1.00\n",
            "11     matt.brown.amitechsolutions       1       2       1.00\n",
            "12                   melissa.menne      10       9      -0.10\n",
            "13                   michael.demos       5      11       1.20\n",
            "14                       paul.boal      15      35       1.33\n",
            "15     paul.smith.amitechsolutions      23      10      -0.57\n",
            "16                   pete.cornwell       1       9       8.00\n",
            "17              raghavender.tuniki       6       2      -0.67\n",
            "18                     sandip.shaw       9       2      -0.78\n",
            "19                 santhosh.kanala       2       6       2.00\n",
            "20   shawn.reilly.amitechsolutions       7      10       0.43\n",
            "21                  tejus.maduskar      12      39       2.25\n"
          ]
        }
      ],
      "source": [
        "assert(summary['pctChange'].mean().round(2) == 0.91)\n",
        "# Display the result\n",
        "print(summary)"
      ]
    },
    {
      "cell_type": "markdown",
      "metadata": {
        "id": "pzqZxZofXQVI"
      },
      "source": [
        "\n",
        "\n",
        "---\n",
        "\n",
        "\n",
        "\n",
        "## Submitting Your Work\n",
        "\n",
        "Submit as usual\n"
      ]
    }
  ],
  "metadata": {
    "celltoolbar": "Create Assignment",
    "kernelspec": {
      "display_name": "Python 3 (ipykernel)",
      "language": "python",
      "name": "python3"
    },
    "language_info": {
      "codemirror_mode": {
        "name": "ipython",
        "version": 3
      },
      "file_extension": ".py",
      "mimetype": "text/x-python",
      "name": "python",
      "nbconvert_exporter": "python",
      "pygments_lexer": "ipython3",
      "version": "3.13.0"
    },
    "colab": {
      "provenance": [],
      "include_colab_link": true
    }
  },
  "nbformat": 4,
  "nbformat_minor": 0
}
