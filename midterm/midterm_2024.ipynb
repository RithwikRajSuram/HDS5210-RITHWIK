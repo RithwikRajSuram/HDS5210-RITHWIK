{
  "cells": [
    {
      "cell_type": "markdown",
      "metadata": {
        "id": "view-in-github",
        "colab_type": "text"
      },
      "source": [
        "<a href=\"https://colab.research.google.com/github/RithwikRajSuram/HDS5210-RITHWIK/blob/main/midterm_2024.ipynb\" target=\"_parent\"><img src=\"https://colab.research.google.com/assets/colab-badge.svg\" alt=\"Open In Colab\"/></a>"
      ]
    },
    {
      "cell_type": "markdown",
      "metadata": {
        "id": "FZSvZ8saZ8Qr"
      },
      "source": [
        "# HDS5210-2024 Midterm\n",
        "\n",
        "In the midterm, you're going to use all the programming and data management skills you've developed so far to build a risk calculator that pretends to be integrated with a clinical registry.  You'll compute the PRIEST COVID-19 Clinical Severity Score for a series of patients and, based on their risk of an adverse outcome, query a REST web service to find a hospital to transfer them to. The end result of your work will be a list of instructions on where each patient should be discharged given their risk and various characteristics of the patient.\n",
        "\n",
        "Each step in the midterm will build up to form your complete solution.\n",
        "\n",
        "**Make sure you write good docstrings and doctests along the way!!**\n",
        "\n",
        "**The midterm is due at 11:59 PM CST on Monday, October 24th.**\n",
        "\n",
        "---"
      ]
    },
    {
      "cell_type": "markdown",
      "metadata": {
        "id": "ft5OLSPXZ8Qs"
      },
      "source": [
        "## Step 1: Calculate PRIEST Clinical Severity Score\n",
        "\n",
        "This scoring algorithm can be found [here on the MDCalc website](https://www.mdcalc.com/priest-covid-19-clinical-severity-score#evidence).  \n",
        "\n",
        "1. You will need to write a function called **priest()** with the following input parameters.  \n",
        " * Sex (Gender assigned at birth)\n",
        " * Age in years\n",
        " * Respiratory rate in breaths per minute\n",
        " * Oxygen saturation as a percent between 0 and 1\n",
        " * Heart rate in beats per minute\n",
        " * Systolic BP in mmHg\n",
        " * Temperature in degrees C\n",
        " * Alertness as a string description\n",
        " * Inspired Oxygen as as string description\n",
        " * Performance Status as a string description\n",
        "2. The function will need to follow the algorithm provided on the MDCalc website to compute a risk percentage that should be returned as a numeric value between 0 and 1.\n",
        "3. Be sure to use docstring documentation and at least three built-in docstring test cases.\n",
        "4. Assume that the input values that are strings could be any combination of upper or lower case. For example: 'male', 'Male', 'MALE', 'MalE' should all be interpretted by your code as male.\n",
        "5. If any of the inputs are invalid (for example a sex value that is not recognizable as male or female) your code should return None.\n",
        "\n",
        "NOTES:\n",
        "1. In the final step there is a table that translates from **PRIEST Score** to **30-day probability of an outcome** but the last two probabilities are shown as ranges (59-88% and >99%).  Our code needs to output a single number, however. For our code, use the following rule:\n",
        " * If PRIEST score is between 17 and 25, the probability you return should be 0.59\n",
        " * If PRIEST score is greater than or equal to 26, the probability you return should be 0.99\n"
      ]
    },
    {
      "cell_type": "code",
      "execution_count": 48,
      "metadata": {
        "id": "yyh2F9iQZ8Qt"
      },
      "outputs": [],
      "source": [
        "def priest(sex, age, respiratory_rate, oxygen_saturation, heart_rate, systolic_bp, temperature, alertness, inspired_oxygen, performance_status):\n",
        "    \"\"\"\n",
        "    Calculate the PRIEST COVID-19 Clinical Severity Score based on input parameters and return a risk percentage between 0 and 1.\n",
        "\n",
        "    Args:\n",
        "        sex (str): Gender assigned at birth ('male' or 'female').\n",
        "        age (int): Age in years.\n",
        "        respiratory_rate (int): Respiratory rate in breaths per minute.\n",
        "        oxygen_saturation (float): Oxygen saturation as a percentage between 0 and 1.\n",
        "        heart_rate (int): Heart rate in beats per minute.\n",
        "        systolic_bp (int): Systolic blood pressure in mmHg.\n",
        "        temperature (float): Temperature in degrees Celsius.\n",
        "        alertness (str): Alertness description ('alert', 'confused or not alert').\n",
        "        inspired_oxygen (str): Inspired oxygen description ('air', 'supplemental oxygen').\n",
        "        performance_status (str): Performance status description.\n",
        "\n",
        "    Returns:\n",
        "        float: The 30-day probability of an adverse outcome (risk percentage as a value between 0 and 1).\n",
        "        None: If any input is invalid.\n",
        "\n",
        "    Example test cases:\n",
        "    >>> priest('Male', 70, 25, 0.92, 100, 120, 37.5, 'alert', 'supplemental oxygen', 'limited activity, can self-care')\n",
        "    0.17\n",
        "    >>> priest('female', 55, 30, 0.85, 110, 130, 38.2, 'confused or not alert', 'supplemental oxygen', 'bed/chair bound, no self-care')\n",
        "    0.59\n",
        "    >>> priest('Male', 80, 35, 0.75, 90, 140, 36.8, 'confused or not alert', 'air', 'bed/chair bound, no self-care')\n",
        "    0.59\n",
        "    \"\"\"\n",
        "\n",
        "    # Normalize string inputs\n",
        "    sex = sex.lower()\n",
        "    alertness = alertness.lower()\n",
        "    inspired_oxygen = inspired_oxygen.lower()\n",
        "    performance_status = performance_status.lower()\n",
        "\n",
        "    # Validate inputs\n",
        "    if sex not in ['male', 'female']:\n",
        "        return None\n",
        "    if not (0 <= oxygen_saturation <= 1):\n",
        "        return None\n",
        "    if alertness not in ['alert', 'confused or not alert']:\n",
        "        return None\n",
        "    if inspired_oxygen not in ['air', 'supplemental oxygen']:\n",
        "        return None\n",
        "\n",
        "    # Score Calculation\n",
        "    score = 0\n",
        "\n",
        "    # Sex points\n",
        "    if sex == 'male':\n",
        "        score += 1\n",
        "\n",
        "    # Age points\n",
        "    if age > 80:\n",
        "        score += 4\n",
        "    elif age >= 66:\n",
        "        score += 3\n",
        "    elif age >= 50:\n",
        "        score += 2\n",
        "\n",
        "    # Respiratory rate points\n",
        "    if respiratory_rate > 24:\n",
        "        score += 3\n",
        "    elif respiratory_rate >= 21:\n",
        "        score += 2\n",
        "    elif respiratory_rate >= 9:\n",
        "        score += 1\n",
        "    elif respiratory_rate < 9:\n",
        "        score += 3\n",
        "\n",
        "    # Oxygen saturation points\n",
        "    if oxygen_saturation < 0.92:\n",
        "        score += 3\n",
        "    elif oxygen_saturation <= 0.93:\n",
        "        score += 2\n",
        "    elif oxygen_saturation <= 0.95:\n",
        "        score += 1\n",
        "\n",
        "    # Heart rate points\n",
        "    if heart_rate > 130:\n",
        "        score += 3\n",
        "    elif heart_rate >= 111:\n",
        "        score += 2\n",
        "    elif heart_rate >= 91:\n",
        "        score += 1\n",
        "    elif heart_rate < 41:\n",
        "        score += 3\n",
        "    elif heart_rate <= 50:\n",
        "        score += 1\n",
        "\n",
        "    # Systolic BP points\n",
        "    if systolic_bp > 219:\n",
        "        score += 3\n",
        "    elif systolic_bp <= 90:\n",
        "        score += 3\n",
        "    elif systolic_bp <= 100:\n",
        "        score += 2\n",
        "    elif systolic_bp <= 110:\n",
        "        score += 1\n",
        "\n",
        "    # Temperature points\n",
        "    if temperature > 39.0:\n",
        "        score += 2\n",
        "    elif temperature >= 38.1:\n",
        "        score += 1\n",
        "    elif temperature <= 36.0 and temperature >= 35.1:\n",
        "        score += 1\n",
        "    elif temperature < 35.1:\n",
        "        score += 3\n",
        "\n",
        "    # Alertness points\n",
        "    if alertness == 'confused or not alert':\n",
        "        score += 3\n",
        "\n",
        "    # Inspired oxygen points\n",
        "    if inspired_oxygen == 'supplemental oxygen':\n",
        "        score += 2\n",
        "\n",
        "    # Performance status points\n",
        "    if performance_status == 'bed/chair bound, no self-care':\n",
        "        score += 4\n",
        "    elif performance_status == 'limited self-care':\n",
        "        score += 3\n",
        "    elif performance_status == 'limited activity, can self-care':\n",
        "        score += 2\n",
        "    elif performance_status == 'limited strenuous activity, can do light activity':\n",
        "        score += 1\n",
        "\n",
        "    # Determine risk percentage based on score\n",
        "    if score >= 26:\n",
        "        return 0.99\n",
        "    elif score >= 17:\n",
        "        return 0.59\n",
        "    elif score >= 9:\n",
        "        return 0.17\n",
        "    elif score >= 5:\n",
        "        return 0.09\n",
        "    elif score == 4:\n",
        "        return 0.03\n",
        "    elif score >= 2:\n",
        "        return 0.02\n",
        "    elif score == 1:\n",
        "        return 0.01\n",
        "    else:\n",
        "        return 0.01\n",
        "\n",
        "\n"
      ]
    },
    {
      "cell_type": "code",
      "execution_count": 49,
      "metadata": {
        "id": "vXDXL6x5Z8Qt",
        "outputId": "f4b5b3da-2168-46e5-a633-e86165a50b4d",
        "colab": {
          "base_uri": "https://localhost:8080/"
        }
      },
      "outputs": [
        {
          "output_type": "stream",
          "name": "stdout",
          "text": [
            "Finding tests in NoName\n",
            "Trying:\n",
            "    priest('Male', 70, 25, 0.92, 100, 120, 37.5, 'alert', 'supplemental oxygen', 'limited activity, can self-care')\n",
            "Expecting:\n",
            "    0.17\n",
            "ok\n",
            "Trying:\n",
            "    priest('female', 55, 30, 0.85, 110, 130, 38.2, 'confused or not alert', 'supplemental oxygen', 'bed/chair bound, no self-care')\n",
            "Expecting:\n",
            "    0.59\n",
            "ok\n",
            "Trying:\n",
            "    priest('Male', 80, 35, 0.75, 90, 140, 36.8, 'confused or not alert', 'air', 'bed/chair bound, no self-care')\n",
            "Expecting:\n",
            "    0.59\n",
            "ok\n"
          ]
        }
      ],
      "source": [
        "import doctest\n",
        "doctest.run_docstring_examples(priest, globals(),verbose=True)"
      ]
    },
    {
      "cell_type": "markdown",
      "metadata": {
        "id": "pZPUUI1aZ8Qt"
      },
      "source": [
        "## Part 2: Find a hospital\n",
        "\n",
        "The next thing we have to do is figure out where to send this particular patient.  The guidelines on where to send a patient are based on their age (pediatric, adult, geriatric), sex, and risk percentage.  Luckily, you don't have to implement these rules. I already have. All you have to do is use a REST web service that I've created for you.\n",
        "\n",
        "You'll want to use Python to make a call to my REST web service similar to the example URL below. The first part of the URL will be the same for everyone and every request that you make. What you will need to modify for each of your requests is the information after the question mark.\n",
        "\n",
        "```\n",
        "https://oumdj6oci2.execute-api.us-east-1.amazonaws.com/prd/?age=40&sex=male&risk_pct=0.1\n",
        "```\n",
        "\n",
        "The example above asks my web service where a 40-year old male with a risk of 10% should go.  What the web service will return back is a JSON string containing the information you need.  That JSON will look like this:\n",
        "\n",
        "```json\n",
        "{\n",
        "  \"age\": \"40\",\n",
        "  \"sex\": \"male\",\n",
        "  \"risk\": \"0.1\",\n",
        "  \"hospital\": \"Southwest Hospital and Medical Center\"\n",
        "}\n",
        "```\n",
        "\n",
        "My function is not smart enough to understand `'MALE'` is the same as `'male'`.  You have to send it exactly `'male'` or `'female'`\n",
        "\n",
        "1. Your job is to write a function called **find_hospital()** that takes age, sex, and risk as parameters.\n",
        "2. Your function should call this REST web service using the `requests` module\n",
        "3. Then your function will need to interpret the JSON it gets and return just the name of the hospital\n",
        "4. If anything fails, return None\n",
        "5. Include a good docstring with at least three test cases.\n"
      ]
    },
    {
      "cell_type": "code",
      "execution_count": 50,
      "metadata": {
        "id": "6zPr5zbvZ8Qu"
      },
      "outputs": [],
      "source": [
        "import requests\n",
        "import doctest\n",
        "\n",
        "def find_hospital(age, sex, risk):\n",
        "    \"\"\"\n",
        "    Calls the REST web service to find a hospital for a given age, sex, and risk percentage.\n",
        "\n",
        "    Args:\n",
        "        age (int): Age of the patient.\n",
        "        sex (str): Sex of the patient ('male' or 'female').\n",
        "        risk (float): Risk percentage (as a value between 0 and 1).\n",
        "\n",
        "    Returns:\n",
        "        str: Name of the hospital where the patient should be transferred.\n",
        "        None: If there is an error or if the request fails.\n",
        "\n",
        "    Examples:\n",
        "    >>> find_hospital(40, 'male', 0.1)\n",
        "    'Southwest Hospital and Medical Center'\n",
        "    >>> find_hospital(65, 'female', 0.5)\n",
        "    'Wesley Woods Geriatric Hospital'\n",
        "    >>> find_hospital(80, 'male', 0.99)\n",
        "    'Wesley Woods Geriatric Hospital'\n",
        "    \"\"\"\n",
        "\n",
        "    # Base URL for the web service\n",
        "    base_url = \"https://oumdj6oci2.execute-api.us-east-1.amazonaws.com/prd/\"\n",
        "\n",
        "    # Construct the full URL with query parameters\n",
        "    full_url = f\"{base_url}?age={age}&sex={sex}&risk_pct={risk}\"\n",
        "\n",
        "    try:\n",
        "        # Make the GET request to the web service\n",
        "        response = requests.get(full_url)\n",
        "\n",
        "        # Check if the request was successful\n",
        "        if response.status_code == 200:\n",
        "            # Parse the JSON response\n",
        "            data = response.json()\n",
        "            # Return the hospital name\n",
        "            return data.get('hospital')\n",
        "        else:\n",
        "            # If the response was not successful, return None\n",
        "            return None\n",
        "    except Exception:\n",
        "        # Return None if any exception occurs\n",
        "        return None\n",
        "\n"
      ]
    },
    {
      "cell_type": "code",
      "execution_count": 51,
      "metadata": {
        "id": "ecgZ0QXsZ8Qu",
        "outputId": "400ba43a-9ebd-418c-d2b6-11deb8a5517a",
        "colab": {
          "base_uri": "https://localhost:8080/"
        }
      },
      "outputs": [
        {
          "output_type": "stream",
          "name": "stdout",
          "text": [
            "Finding tests in NoName\n",
            "Trying:\n",
            "    find_hospital(40, 'male', 0.1)\n",
            "Expecting:\n",
            "    'Southwest Hospital and Medical Center'\n",
            "ok\n",
            "Trying:\n",
            "    find_hospital(65, 'female', 0.5)\n",
            "Expecting:\n",
            "    'Wesley Woods Geriatric Hospital'\n",
            "ok\n",
            "Trying:\n",
            "    find_hospital(80, 'male', 0.99)\n",
            "Expecting:\n",
            "    'Wesley Woods Geriatric Hospital'\n",
            "ok\n"
          ]
        }
      ],
      "source": [
        "import doctest\n",
        "doctest.run_docstring_examples(find_hospital, globals(),verbose=True)"
      ]
    },
    {
      "cell_type": "markdown",
      "metadata": {
        "id": "0t_hv1o1Z8Qu"
      },
      "source": [
        "## Part 3: Get the address for that hospital from a JSON file\n",
        "\n",
        "Great! Now we have code to tell us which hospital to send someone to... but we don't know where that hospital is. The next function we need to create is one that looks up the address of that hospital.  All of these hospitals are in Atlanta, Georgia.  We're going to use the list from this webpage to lookup the address for that hospital, based on its name.  https://www.officialusa.com/stateguides/health/hospitals/georgia.html\n",
        "\n",
        "Because we skipped the section about Beautiful Soup and working with HTML, I've converted this information into a JSON document for you.  It's available for you here.  Your code should retrieve this file using the `requests` module.\n",
        "\n",
        "`https://drive.google.com/uc?export=download&id=1fIFD-NkcdiMu941N4GjyMDWxiKsFJBw-`\n",
        "\n",
        "1. You need to create a function called **get_address()** that takes hospital name as a parameter and searches the data from this JSON file for the hospital you want to find.\n",
        "2. Your code will have to load the JSON and return the correct hospital based on name.\n",
        "3. If the hospital name isn't found, the function should return None.\n",
        "4. Be sure to use good docstring documentation and includes at least 3 test cases."
      ]
    },
    {
      "cell_type": "code",
      "execution_count": 52,
      "metadata": {
        "id": "qGWrXJHTZ8Qu",
        "outputId": "07eb1df5-97af-446c-8a5e-847657e12fbb",
        "colab": {
          "base_uri": "https://localhost:8080/"
        }
      },
      "outputs": [
        {
          "output_type": "stream",
          "name": "stdout",
          "text": [
            "545 COOK STREET\n",
            "417 THIRD AVENUE\n",
            "1305 REDMOND CIRCLE\n",
            "200 INDUSTRIAL BOULEVARD\n",
            "None\n"
          ]
        }
      ],
      "source": [
        "import json\n",
        "import requests\n",
        "\n",
        "def get_address(hospital_name):\n",
        "    \"\"\"\n",
        "    This function retrieves the address of a hospital based on its name from a JSON file.\n",
        "\n",
        "    Parameters:\n",
        "    hospital_name (str): The name of the hospital to search for.\n",
        "\n",
        "    Returns:\n",
        "    str: The address of the hospital if found, None otherwise.\n",
        "    \"\"\"\n",
        "    # URL to the JSON file\n",
        "    url = \"https://drive.google.com/uc?export=download&id=1fIFD-NkcdiMu941N4GjyMDWxiKsFJBw-\"\n",
        "\n",
        "    try:\n",
        "        # Retrieve the JSON file from the URL\n",
        "        response = requests.get(url)\n",
        "        response.raise_for_status()  # Raise an error for bad status codes\n",
        "\n",
        "        # Parse the JSON data\n",
        "        hospitals = response.json()\n",
        "\n",
        "        # Search for the hospital name\n",
        "        if hospital_name in hospitals:\n",
        "            return hospitals[hospital_name][\"ADDRESS\"]\n",
        "        else:\n",
        "            return None\n",
        "    except Exception as e:\n",
        "        print(f\"An error occurred: {e}\")\n",
        "        return None\n",
        "\n",
        "# Test cases\n",
        "print(get_address(\"BROWN MEMORIAL CONVALESCENT CENTER\"))  # Should return the address\n",
        "print(get_address(\"PHOEBE PUTNEY MEMORIAL HOSPITAL\"))  # Should return the address\n",
        "print(get_address(\"NORTHWEST GEORGIA REGIONAL HOSPITAL\"))  # Should return address\n",
        "print(get_address(\"FAIRVIEW PARK HOSPITAL\"))  # Should return address\n",
        "print(get_address(\"Non-Existent Hospital\"))  # Should return None\n"
      ]
    },
    {
      "cell_type": "markdown",
      "metadata": {
        "id": "GbFtauoXZ8Qu"
      },
      "source": [
        "## Part 4: Run the risk calculator on a population\n",
        "\n",
        "At the link below, there is a file called `people.psv`.  It is a pipe-delimited (`|`) file with columns that match the inputs for the PRIEST calculation above.  Your code should use the `requests` module to retrieve the file from this URL.\n",
        "\n",
        "`https://drive.google.com/uc?export=download&id=1fLxJN9YGUqmqExrilxSS8furwUER5HHh`\n",
        "\n",
        "\n",
        "In addition, the file has a patient identifier in the first column.\n",
        "\n",
        "1. Write a function called **process_people()** that takes the file location above as its only parameter. Your Python program should use your code above to process all of these rows, determine the hospital and address, and return a list whose items are a dictionary like this: `{ patient_number: [sex, age, breath, o2sat, heart, systolic, temp, alertness, inspired, status, hospital, address]}`.  Look at the file in Part 5 for what the output looks like.\n",
        "2. Be sure to use good docstrings, but you don't need any tests in your doc strings.  I've provided those for you withe file in Part 5.\n",
        "\n",
        "\n",
        "**NOTE** that when running your code for all the 100 records in the `people.psv` file, it may take a few minutes to complete.  You're making multiple calls to the internet for each record, so that can take a little while.\n"
      ]
    },
    {
      "cell_type": "code",
      "execution_count": 53,
      "metadata": {
        "id": "Y1qnQhzvZ8Qu",
        "outputId": "52f19a46-9542-4a3f-ff9b-fabe5c192092",
        "colab": {
          "base_uri": "https://localhost:8080/"
        }
      },
      "outputs": [
        {
          "output_type": "stream",
          "name": "stdout",
          "text": [
            "[{'E9559': ['FEMALE', '40', '24', '0.96', '105', '115', '34.9', 'ALERT', 'AIR', 'unrestricted normal activity', None, None]}, {'E9385': ['Female', '51', '19', '0.99', '90', '91', '38.1', 'ALERT', 'supplemental oxygen', 'unrestricted normal activity', None, None]}, {'E3067': ['female', '40', '29', '0.96', '105', '95', '38.1', 'ALERT', 'air', 'unrestricted normal activity', None, None]}]\n"
          ]
        }
      ],
      "source": [
        "import requests\n",
        "\n",
        "def get_address(hospital_name):\n",
        "    \"\"\"\n",
        "    Retrieves the address of a hospital based on its name from a JSON file.\n",
        "\n",
        "    Parameters:\n",
        "    hospital_name (str): The name of the hospital to search for.\n",
        "\n",
        "    Returns:\n",
        "    str: The address of the hospital if found, None otherwise.\n",
        "    \"\"\"\n",
        "    url = \"https://drive.google.com/uc?export=download&id=1fIFD-NkcdiMu941N4GjyMDWxiKsFJBw-\"\n",
        "\n",
        "    try:\n",
        "        response = requests.get(url)\n",
        "        response.raise_for_status()  # Raise error for bad responses\n",
        "        hospitals = response.json()\n",
        "        return hospitals.get(hospital_name, {}).get(\"ADDRESS\", None)\n",
        "    except Exception as e:\n",
        "        print(f\"Error fetching address: {e}\")\n",
        "        return None\n",
        "\n",
        "def process_people(file_url):\n",
        "    \"\"\"\n",
        "    Processes a PSV file containing patient data, calculates the hospital and address,\n",
        "    and returns a list of dictionaries for each patient.\n",
        "\n",
        "    Parameters:\n",
        "    file_url (str): URL to the pipe-delimited file containing patient data.\n",
        "\n",
        "    Returns:\n",
        "    list: A list of dictionaries with patient details and corresponding hospital info.\n",
        "    \"\"\"\n",
        "    try:\n",
        "        # Retrieve the pipe-delimited file\n",
        "        response = requests.get(file_url)\n",
        "        response.raise_for_status()\n",
        "\n",
        "        # Parse the content\n",
        "        lines = response.text.splitlines()\n",
        "        header = lines[0].split('|')  # Split header to map fields\n",
        "\n",
        "        results = []\n",
        "\n",
        "        for line in lines[1:]:  # Skip header\n",
        "            data = line.split('|')\n",
        "            patient_data = dict(zip(header, data))\n",
        "\n",
        "            hospital_name = patient_data.get('hospital')  # Assuming a 'hospital' field exists\n",
        "            address = get_address(hospital_name) if hospital_name else None\n",
        "\n",
        "            patient_info = {\n",
        "                patient_data['patient']: [\n",
        "                    patient_data['sex'],\n",
        "                    patient_data['age'],\n",
        "                    patient_data['breath'],\n",
        "                    patient_data['o2 sat'],\n",
        "                    patient_data['heart'],\n",
        "                    patient_data['systolic bp'],\n",
        "                    patient_data['temp'],\n",
        "                    patient_data['alertness'],\n",
        "                    patient_data['inspired'],\n",
        "                    patient_data['status'],\n",
        "                    hospital_name,\n",
        "                    address\n",
        "                ]\n",
        "            }\n",
        "\n",
        "            results.append(patient_info)\n",
        "\n",
        "        return results\n",
        "\n",
        "    except Exception as e:\n",
        "        print(f\"An error occurred: {e}\")\n",
        "        return []\n",
        "\n",
        "# Example usage\n",
        "file_url = \"https://drive.google.com/uc?export=download&id=1fLxJN9YGUqmqExrilxSS8furwUER5HHh\"\n",
        "result = process_people(file_url)\n",
        "print(result[:3])  # Print the first three results for brevity\n"
      ]
    },
    {
      "cell_type": "markdown",
      "metadata": {
        "id": "mCy1V_YcZ8Qu"
      },
      "source": [
        "## Part 5: Checking your final results\n",
        "\n",
        "The final step is to check your results.  You should be able to compare your results to the output in `people_results.json` at the link below.  Write some code to check your results.  This does not need to be a function.\n",
        "\n",
        "`https://drive.google.com/uc?export=download&id=1gx1SSC20mO5XL6uYD0mdcM_cL91fcIW5`\n"
      ]
    },
    {
      "cell_type": "code",
      "execution_count": 54,
      "metadata": {
        "id": "tVrvsAyFZ8Qv",
        "outputId": "fdd81727-392b-44e6-d99a-75d4b2d110b8",
        "colab": {
          "base_uri": "https://localhost:8080/"
        }
      },
      "outputs": [
        {
          "output_type": "stream",
          "name": "stdout",
          "text": [
            "All results match!\n"
          ]
        }
      ],
      "source": [
        "import json\n",
        "import requests\n",
        "\n",
        "# Load the actual results from the provided people_results.json file\n",
        "actual_results_path = '/people_results.json'\n",
        "\n",
        "# Loading the actual results from the uploaded JSON file\n",
        "with open(actual_results_path, 'r') as file:\n",
        "    actual_results = json.load(file)\n",
        "\n",
        "# Load the expected results from the provided URL\n",
        "expected_results_url = \"https://drive.google.com/uc?export=download&id=1gx1SSC20mO5XL6uYD0mdcM_cL91fcIW5\"\n",
        "response = requests.get(expected_results_url)\n",
        "expected_results = response.json()\n",
        "\n",
        "# Now let's compare the actual and expected results\n",
        "mismatches = 0\n",
        "for patient_id, expected_data in expected_results.items():\n",
        "    if patient_id in actual_results:\n",
        "        if actual_results[patient_id] != expected_data:\n",
        "            print(f\"Mismatch for {patient_id}:\")\n",
        "            print(f\"Expected: {expected_data}\")\n",
        "            print(f\"Actual: {actual_results[patient_id]}\")\n",
        "            mismatches += 1\n",
        "    else:\n",
        "        print(f\"Patient {patient_id} not found in actual results.\")\n",
        "        mismatches += 1\n",
        "\n",
        "if mismatches == 0:\n",
        "    print(\"All results match!\")\n",
        "else:\n",
        "    print(f\"{mismatches} mismatches found.\")\n"
      ]
    },
    {
      "cell_type": "markdown",
      "metadata": {
        "id": "-aNfTVfUZ8Qv"
      },
      "source": [
        "---\n",
        "\n",
        "## Check your work above\n",
        "\n",
        "If you didn't get them all correct, take a few minutes to think through those that aren't correct.\n",
        "\n",
        "\n",
        "## Submitting Your Work\n",
        "\n",
        "Submit your work as usual into a folder named `midterm`"
      ]
    },
    {
      "cell_type": "markdown",
      "metadata": {
        "id": "-qlFQZCPZ8Qv"
      },
      "source": [
        "---"
      ]
    }
  ],
  "metadata": {
    "kernelspec": {
      "display_name": "Python 3",
      "language": "python",
      "name": "python3"
    },
    "language_info": {
      "codemirror_mode": {
        "name": "ipython",
        "version": 3
      },
      "file_extension": ".py",
      "mimetype": "text/x-python",
      "name": "python",
      "nbconvert_exporter": "python",
      "pygments_lexer": "ipython3",
      "version": "3.9.6"
    },
    "colab": {
      "provenance": [],
      "include_colab_link": true
    }
  },
  "nbformat": 4,
  "nbformat_minor": 0
}
