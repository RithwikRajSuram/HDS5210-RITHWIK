{
  "cells": [
    {
      "cell_type": "markdown",
      "metadata": {
        "id": "view-in-github",
        "colab_type": "text"
      },
      "source": [
        "<a href=\"https://colab.research.google.com/github/RithwikRajSuram/HDS5210-RITHWIK/blob/main/week14_assignment_1.ipynb\" target=\"_parent\"><img src=\"https://colab.research.google.com/assets/colab-badge.svg\" alt=\"Open In Colab\"/></a>"
      ]
    },
    {
      "cell_type": "markdown",
      "metadata": {
        "nbgrader": {
          "grade": false,
          "grade_id": "cell-fc1c39d0d6f8b82a",
          "locked": true,
          "schema_version": 1,
          "solution": false
        },
        "id": "M5IAvfYfRbge"
      },
      "source": [
        "# Week 14 Review Assignmnet\n",
        "\n",
        "For the questions below, we're going to refer exclusively to an HHCAPS survey data set that is available in `/data/hhcaps.csv`.  Use whatever commands you want to calculate the information required to get to the answer.  Then, enter your answer in the answers cell as usual.\n",
        "\n",
        "**NOTE: Enter your answers as string values (inside quotation marks \"\") even if the answer is actually numeric.**\n",
        "\n",
        "---\n",
        "---\n"
      ]
    },
    {
      "cell_type": "code",
      "execution_count": 13,
      "metadata": {
        "nbgrader": {
          "grade": false,
          "grade_id": "intro",
          "locked": true,
          "schema_version": 1,
          "solution": false
        },
        "id": "MgMNjhNuRbgf"
      },
      "outputs": [],
      "source": [
        "%matplotlib inline\n",
        "import pandas as pd\n",
        "\n",
        "hhcaps = pd.read_csv('https://hds5210-data.s3.amazonaws.com/hhcaps.csv')"
      ]
    },
    {
      "cell_type": "markdown",
      "metadata": {
        "nbgrader": {
          "grade": false,
          "grade_id": "q01-intro",
          "locked": true,
          "schema_version": 1,
          "solution": false
        },
        "id": "Uin_XTcpRbgg"
      },
      "source": [
        "## #01 -\n",
        "\n",
        "How many columns does this file contain?"
      ]
    },
    {
      "cell_type": "code",
      "execution_count": 14,
      "metadata": {
        "colab": {
          "base_uri": "https://localhost:8080/"
        },
        "id": "yj3KAJLlRbgg",
        "outputId": "0f94a9e3-3449-4aaf-aa11-75ed2a45dc5b"
      },
      "outputs": [
        {
          "output_type": "stream",
          "name": "stdout",
          "text": [
            "The file contains 39 columns.\n"
          ]
        }
      ],
      "source": [
        "num_of_columns = len(hhcaps.columns) # 'len(hhcaps.columns)' gives the total count of columns in the DataFrame\n",
        "print(f\"The file contains {num_of_columns} columns.\")"
      ]
    },
    {
      "cell_type": "code",
      "execution_count": 15,
      "metadata": {
        "nbgrader": {
          "grade": false,
          "grade_id": "q01-solution",
          "locked": false,
          "schema_version": 1,
          "solution": true
        },
        "id": "D5gmWP0oRbgh"
      },
      "outputs": [],
      "source": [
        "answers={}\n",
        "answers['40.1'] = 39 # NOTE: Use a number, not string to answer this question"
      ]
    },
    {
      "cell_type": "markdown",
      "metadata": {
        "nbgrader": {
          "grade": false,
          "grade_id": "q02-intro",
          "locked": true,
          "schema_version": 1,
          "solution": false
        },
        "id": "6bydo1I0Rbgh"
      },
      "source": [
        "## #02 -\n",
        "\n",
        "How many different values for State are there in this file?"
      ]
    },
    {
      "cell_type": "code",
      "execution_count": 16,
      "metadata": {
        "colab": {
          "base_uri": "https://localhost:8080/"
        },
        "id": "NeqAeAysRbgh",
        "outputId": "718a6f4b-4647-41c1-85b1-934475d02a87"
      },
      "outputs": [
        {
          "output_type": "stream",
          "name": "stdout",
          "text": [
            "There are 55 different values for State in the file.\n"
          ]
        }
      ],
      "source": [
        "# Calculate the number of unique values in the 'State' column\n",
        "num_unique_state_values = hhcaps['State'].nunique() # '.nunique()' counts the number of distinct values in the 'State' column\n",
        "print(f\"There are {num_unique_state_values} different values for State in the file.\")"
      ]
    },
    {
      "cell_type": "code",
      "execution_count": 17,
      "metadata": {
        "nbgrader": {
          "grade": false,
          "grade_id": "q02-solution",
          "locked": false,
          "schema_version": 1,
          "solution": true
        },
        "id": "TsMB-8WsRbgh"
      },
      "outputs": [],
      "source": [
        "answers['40.2'] = 55 # NOTE: Use a number, not a string to answer this question"
      ]
    },
    {
      "cell_type": "markdown",
      "metadata": {
        "nbgrader": {
          "grade": false,
          "grade_id": "q03-intro",
          "locked": true,
          "schema_version": 1,
          "solution": false
        },
        "id": "8sbOlk68Rbgi"
      },
      "source": [
        "## #03 -\n",
        "\n",
        "Which of those State values has the highest frequency of occurence?"
      ]
    },
    {
      "cell_type": "code",
      "execution_count": 18,
      "metadata": {
        "nbgrader": {
          "grade": false,
          "grade_id": "q03-solution",
          "locked": false,
          "schema_version": 1,
          "solution": true
        },
        "colab": {
          "base_uri": "https://localhost:8080/"
        },
        "id": "9FxdZLBKRbgi",
        "outputId": "1bc8b0fc-1703-4fd4-f6cc-9e584ebdb33a"
      },
      "outputs": [
        {
          "output_type": "stream",
          "name": "stdout",
          "text": [
            "The state with the highest frequency is TX with 2518 occurrences.\n"
          ]
        }
      ],
      "source": [
        "# Find the state with the highest frequency of occurrences\n",
        "state_with_highest_frequency = hhcaps['State'].value_counts().idxmax()\n",
        "# 'value_counts()' counts occurrences of each unique value in 'State'\n",
        "# 'idxmax()' returns the index (state) with the maximum count\n",
        "\n",
        "# Find the highest frequency count\n",
        "highest_frequency_count = hhcaps['State'].value_counts().max()\n",
        "# 'max()' retrieves the maximum count value from the result of 'value_counts()'\n",
        "\n",
        "# Print the result\n",
        "print(f\"The state with the highest frequency is {state_with_highest_frequency} with {highest_frequency_count} occurrences.\")"
      ]
    },
    {
      "cell_type": "code",
      "execution_count": 19,
      "metadata": {
        "nbgrader": {
          "grade": true,
          "grade_id": "q03-test",
          "locked": true,
          "points": 2,
          "schema_version": 1,
          "solution": false
        },
        "id": "4qzp-1f6Rbgi"
      },
      "outputs": [],
      "source": [
        "answers['40.3'] = \"TX\""
      ]
    },
    {
      "cell_type": "markdown",
      "metadata": {
        "nbgrader": {
          "grade": false,
          "grade_id": "q04-intro",
          "locked": true,
          "schema_version": 1,
          "solution": false
        },
        "id": "HK8TD-ZPRbgi"
      },
      "source": [
        "## #04 -\n",
        "\n",
        "Which of those State values has the best average performance on the `Star Rating for health team communicated well with them` score?"
      ]
    },
    {
      "cell_type": "code",
      "execution_count": 20,
      "metadata": {
        "nbgrader": {
          "grade": false,
          "grade_id": "q04-solution",
          "locked": false,
          "schema_version": 1,
          "solution": true
        },
        "colab": {
          "base_uri": "https://localhost:8080/"
        },
        "id": "8R4VGtTrRbgj",
        "outputId": "7636f97b-f4f7-4d95-e4e9-754e24533ffa"
      },
      "outputs": [
        {
          "output_type": "stream",
          "name": "stdout",
          "text": [
            "The state with the best average performance is ME with an average score of 4.65.\n"
          ]
        }
      ],
      "source": [
        "# Assuming 'hhcaps' is your DataFrame and the relevant score column is named as mentioned\n",
        "score_column = \"Star Rating for health team communicated well with them\"\n",
        "\n",
        "# Group by 'State' and calculate the average score\n",
        "average_scores = hhcaps.groupby('State')[score_column].mean()\n",
        "\n",
        "# Find the state with the highest average score\n",
        "best_state = average_scores.idxmax()\n",
        "best_score = average_scores.max()\n",
        "\n",
        "# Print the result\n",
        "print(f\"The state with the best average performance is {best_state} with an average score of {best_score:.2f}.\")"
      ]
    },
    {
      "cell_type": "code",
      "execution_count": 21,
      "metadata": {
        "nbgrader": {
          "grade": true,
          "grade_id": "q04-test",
          "locked": true,
          "points": 2,
          "schema_version": 1,
          "solution": false
        },
        "id": "ZY3uz3IvRbgj"
      },
      "outputs": [],
      "source": [
        "answers['40.4'] = \"ME\""
      ]
    },
    {
      "cell_type": "markdown",
      "metadata": {
        "nbgrader": {
          "grade": false,
          "grade_id": "q05-intro",
          "locked": true,
          "schema_version": 1,
          "solution": false
        },
        "id": "RXIYVTEvRbgj"
      },
      "source": [
        "## #05 -\n",
        "\n",
        "What was the average score on `Star Rating for how patients rated overall care from agency` for providers listed as having a `Type of Ownership` of `Hospital Based Program`\n",
        "\n",
        "**NOTE: Enter your answer with two decimal precision: 0.00**"
      ]
    },
    {
      "cell_type": "code",
      "execution_count": 22,
      "metadata": {
        "nbgrader": {
          "grade": false,
          "grade_id": "q05-solution",
          "locked": false,
          "schema_version": 1,
          "solution": true
        },
        "colab": {
          "base_uri": "https://localhost:8080/"
        },
        "id": "NvpG45lyRbgj",
        "outputId": "029a3afd-c04e-4f1c-a9c9-0df47e350d09"
      },
      "outputs": [
        {
          "output_type": "stream",
          "name": "stdout",
          "text": [
            "The average score is 3.69 for providers with a Type of Ownership of 'Hospital Based Program'.\n"
          ]
        }
      ],
      "source": [
        "# Define the column names\n",
        "ownership_column = \"Type of Ownership\"\n",
        "score_column = \"Star Rating for how patients rated overall care from agency\"\n",
        "\n",
        "# Filter the DataFrame for \"Hospital Based Program\"\n",
        "filtered_df = hhcaps[hhcaps[ownership_column] == \"Hospital Based Program\"]\n",
        "\n",
        "# Calculate the average score\n",
        "average_score = filtered_df[score_column].mean()\n",
        "\n",
        "# Print the result\n",
        "print(f\"The average score is {average_score:.2f} for providers with a Type of Ownership of 'Hospital Based Program'.\")\n"
      ]
    },
    {
      "cell_type": "code",
      "execution_count": 23,
      "metadata": {
        "nbgrader": {
          "grade": true,
          "grade_id": "q05-test",
          "locked": true,
          "points": 2,
          "schema_version": 1,
          "solution": false
        },
        "id": "dP1bGLZhRbgj"
      },
      "outputs": [],
      "source": [
        "answers['40.5'] = 3.69 # NOTE: Write answer as number in form N.NN (No additional digits)"
      ]
    },
    {
      "cell_type": "markdown",
      "metadata": {
        "id": "159GTz2aRbgj"
      },
      "source": [
        "---\n",
        "\n",
        "Checking Your Work\n",
        "---\n",
        "\n",
        "After completing your work above and running each cell, you can check your answers by running the code below.\n",
        "\n",
        "The easiest way to do this is to use the `Kernel` -> `Restart Kernel and Run All Cells` menu option. This option restarts Python and runs every cell from top to bottom until it encounters an exception of some kind.  It will stop after running the cell below and outputing a summary of how many answers you have correct or incorrect.\n"
      ]
    },
    {
      "cell_type": "code",
      "execution_count": 24,
      "metadata": {
        "colab": {
          "base_uri": "https://localhost:8080/"
        },
        "id": "iookjHSrRbgk",
        "outputId": "8bd04a4c-e582-48c6-8401-aadf811fd39b"
      },
      "outputs": [
        {
          "output_type": "stream",
          "name": "stdout",
          "text": [
            "Question 40.1 is CORRECT\n",
            "Question 40.2 is CORRECT\n",
            "Question 40.3 is CORRECT\n",
            "Question 40.4 is CORRECT\n",
            "Question 40.5 is CORRECT\n"
          ]
        }
      ],
      "source": [
        "import pickle\n",
        "\n",
        "data = b\"\\x80\\x04\\x95?\\x00\\x00\\x00\\x00\\x00\\x00\\x00}\\x94(\\x8c\\x0440.1\\x94K'\\x8c\\x0440.2\\x94K7\\x8c\\x0440.3\\x94\\x8c\\x02TX\\x94\\x8c\\x0440.4\\x94\\x8c\\x02ME\\x94\\x8c\\x0440.5\\x94G@\\r\\x85\\x1e\\xb8Q\\xeb\\x85u.\"\n",
        "result = pickle.loads(data)\n",
        "\n",
        "for key in result:\n",
        "  if answers[key] == result[key]:\n",
        "    print(f\"Question {key} is CORRECT\")\n",
        "  else:\n",
        "    print(f\"Question {key} is INCORRECT\")"
      ]
    },
    {
      "cell_type": "markdown",
      "metadata": {
        "id": "p6etXCW7Rbgk"
      },
      "source": [
        "---\n",
        "\n",
        "## Check your work above\n",
        "\n",
        "If you didn't get them all correct, take a few minutes to think through those that aren't correct.\n",
        "\n",
        "\n",
        "## Submitting Your Work\n",
        "\n",
        "In order to submit your work, you'll need to save this notebook file back to GitHub.  To do that in Google Colab:\n",
        "1. File -> Save a Copy in GitHub\n",
        "2. Make sure your HDS5210 repository is selected\n",
        "3. Make sure the file name includes the week number like this: `week14/week14_assignment_1.ipynb`\n",
        "4. Add a commit message that means something\n",
        "\n",
        "**Be sure week names are lowercase and use a two digit week number!!**\n",
        "\n",
        "**Be sure you use the same file name provided by the instructor!!**\n",
        "\n"
      ]
    }
  ],
  "metadata": {
    "celltoolbar": "Create Assignment",
    "kernelspec": {
      "display_name": "Python 3 (ipykernel)",
      "language": "python",
      "name": "python3"
    },
    "language_info": {
      "codemirror_mode": {
        "name": "ipython",
        "version": 3
      },
      "file_extension": ".py",
      "mimetype": "text/x-python",
      "name": "python",
      "nbconvert_exporter": "python",
      "pygments_lexer": "ipython3",
      "version": "3.13.0"
    },
    "colab": {
      "provenance": [],
      "include_colab_link": true
    }
  },
  "nbformat": 4,
  "nbformat_minor": 0
}
