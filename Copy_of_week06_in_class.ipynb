{
  "cells": [
    {
      "cell_type": "markdown",
      "metadata": {
        "id": "view-in-github",
        "colab_type": "text"
      },
      "source": [
        "<a href=\"https://colab.research.google.com/github/RithwikRajSuram/HDS5210-RITHWIK/blob/main/Copy_of_week06_in_class.ipynb\" target=\"_parent\"><img src=\"https://colab.research.google.com/assets/colab-badge.svg\" alt=\"Open In Colab\"/></a>"
      ]
    },
    {
      "cell_type": "markdown",
      "metadata": {
        "id": "cpvyMEORlAF9"
      },
      "source": [
        "# Setup: Create sample data files for this worksheet's examples"
      ]
    },
    {
      "cell_type": "code",
      "execution_count": null,
      "metadata": {
        "id": "eQ5mDtfblAF-"
      },
      "outputs": [],
      "source": [
        "import json\n",
        "import pickle\n",
        "\n",
        "with open(\"hello.txt\", \"w\") as f:\n",
        "    f.write(\"Hello World from a text file\")\n",
        "\n",
        "with open(\"sample_patient_data.csv\", \"w\") as f:\n",
        "    f.write(\"Patient ID,Name,Age,Condition,Admission Date\\n1001,John Doe,45,Hypertension,2023-09-01\\n1002,Jane Smith,34,Diabetes,2023-09-03\\n1003,Alice Johnson,29,Asthma,2023-09-05\\n1004,Robert Brown,67,COPD,2023-09-07\\n1005,Maria Garcia,53,Hypertension,2023-09-10\")\n",
        "\n",
        "with open(\"sample_patient_data.psv\", \"w\") as f:\n",
        "    f.write(\"Patient ID|Name|Age|Condition|Admission Date\\n1001|John Doe|45|Hypertension|2023-09-01\\n1002|Jane Smith|34|Diabetes|2023-09-03\\n1003|Alice Johnson|29|Asthma|2023-09-05\\n1004|Robert Brown|67|COPD|2023-09-07\\n1005|Maria Garcia|53|Hypertension|2023-09-10\")\n",
        "\n",
        "systems = []\n",
        "hospital1 = {\"Beds\":1432, \"Hospital\":\"BJC\", \"City\":\"St. Louis\"}\n",
        "hospital2 = {\"Beds\":1187, \"Hospital\":\"MOBap\", \"City\":\"Creve Coeur\"}\n",
        "systems.append({\"System\":\"BJC\", \"Hospitals\":[hospital1, hospital2]})\n",
        "hospital3 = {\"Beds\":965, \"Hospital\":\"SLUH\", \"City\":\"St. Louis\"}\n",
        "systems.append({\"System\":\"SSM\", \"Hospitals\":[hospital3]})\n",
        "hospital4 = {\"Beds\":983, \"Hospital\":\"Mercy STL\", \"City\":\"Creve Coeur\"}\n",
        "systems.append({\"System\":\"Mercy\", \"Hospitals\":[hospital4]})\n",
        "\n",
        "with open(\"hospitals.json\", \"w\") as json_file:\n",
        "    json.dump(systems, json_file, indent=4)\n",
        "\n",
        "data = b'\\x80\\x04\\x95\\xb6\\x0f\\x00\\x00\\x00\\x00\\x00\\x00X\\xaf\\x0f\\x00\\x00<?xml version=\"1.0\" encoding=\"UTF-8\"?>\\n\\n<Patient xmlns=\"http://hl7.org/fhir\">\\n  <id value=\"example\"/> \\n  <!--    MRN assigned by ACME healthcare on 6-May 2001    -->\\n  <identifier> \\n    <use value=\"usual\"/> \\n    <type> \\n      <coding> \\n        <system value=\"http://terminology.hl7.org/CodeSystem/v2-0203\"/> \\n        <code value=\"MR\"/> \\n      </coding> \\n    </type> \\n    <system value=\"urn:oid:1.2.36.146.595.217.0.1\"/> \\n    <value value=\"12345\"/> \\n    <period> \\n      <start value=\"2001-05-06\"/> \\n    </period> \\n    <assigner> \\n      <display value=\"Acme Healthcare\"/> \\n    </assigner> \\n  </identifier> \\n  <active value=\"true\"/> \\n  <!--    Peter James Chalmers, but called \"Jim\"    -->\\n  <name> \\n    <use value=\"official\"/> \\n    <family value=\"Chalmers\"/> \\n    <given value=\"Peter\"/> \\n    <given value=\"James\"/> \\n  </name> \\n  <name> \\n    <use value=\"usual\"/> \\n    <given value=\"Jim\"/> \\n  </name> \\n  <name> \\n    <!--   Maiden names apply for anyone whose name changes as a result of marriage - irrespective\\n     of gender   -->\\n    <use value=\"maiden\"/> \\n    <family value=\"Windsor\"/> \\n    <given value=\"Peter\"/> \\n    <given value=\"James\"/> \\n    <period> \\n      <end value=\"2002\"/> \\n    </period> \\n  </name> \\n  <!--    home communication details aren\\'t known    -->\\n  <telecom> \\n    <use value=\"home\"/> \\n  </telecom> \\n  <telecom> \\n    <system value=\"phone\"/> \\n    <value value=\"(03) 5555 6473\"/> \\n    <use value=\"work\"/> \\n    <rank value=\"1\"/> \\n  </telecom> \\n  <telecom> \\n    <system value=\"phone\"/> \\n    <value value=\"(03) 3410 5613\"/> \\n    <use value=\"mobile\"/> \\n    <rank value=\"2\"/> \\n  </telecom> \\n  <telecom> \\n    <system value=\"phone\"/> \\n    <value value=\"(03) 5555 8834\"/> \\n    <use value=\"old\"/> \\n    <period> \\n      <end value=\"2014\"/> \\n    </period> \\n  </telecom> \\n  <!--    use FHIR code system for male / female    -->\\n  <gender value=\"male\"/> \\n  <birthDate value=\"1974-12-25\">\\n    <extension url=\"http://hl7.org/fhir/StructureDefinition/patient-birthTime\">\\n      <valueDateTime value=\"1974-12-25T14:35:45-05:00\"/> \\n    </extension> \\n  </birthDate> \\n  <deceasedBoolean value=\"false\"/> \\n  <address> \\n    <use value=\"home\"/> \\n    <type value=\"both\"/> \\n    <text value=\"534 Erewhon St PeasantVille, Rainbow, Vic  3999\"/> \\n    <line value=\"534 Erewhon St\"/> \\n    <city value=\"PleasantVille\"/> \\n    <district value=\"Rainbow\"/> \\n    <state value=\"Vic\"/> \\n    <postalCode value=\"3999\"/> \\n    <period> \\n      <start value=\"1974-12-25\"/> \\n    </period> \\n  </address> \\n  <contact> \\n    <relationship> \\n      <coding> \\n        <system value=\"http://terminology.hl7.org/CodeSystem/v2-0131\"/> \\n        <code value=\"N\"/> \\n      </coding> \\n    </relationship> \\n    <name> \\n      <family value=\"du March\\xc3\\xa9\">\\n        <!--    the \"du\" part is a family name prefix (VV in iso 21090)    -->\\n        <extension url=\"http://hl7.org/fhir/StructureDefinition/humanname-own-prefix\">\\n          <valueString value=\"VV\"/> \\n        </extension> \\n      </family> \\n      <given value=\"B\\xc3\\xa9n\\xc3\\xa9dicte\"/> \\n    </name> \\n    <additionalName> \\n      <use value=\"nickname\"/> \\n      <given value=\"B\\xc3\\xa9n\\xc3\\xa9\"/> \\n    </additionalName> \\n    <telecom> \\n      <system value=\"phone\"/> \\n      <value value=\"+33 (237) 998327\"/> \\n    </telecom> \\n    <address> \\n      <use value=\"home\"/> \\n      <type value=\"both\"/> \\n      <line value=\"534 Erewhon St\"/> \\n      <city value=\"PleasantVille\"/> \\n      <district value=\"Rainbow\"/> \\n      <state value=\"Vic\"/> \\n      <postalCode value=\"3999\"/> \\n      <period> \\n        <start value=\"1974-12-25\"/> \\n      </period> \\n    </address> \\n    <additionalAddress> \\n      <use value=\"work\"/> \\n      <line value=\"123 Smart St\"/> \\n      <city value=\"PleasantVille\"/> \\n      <state value=\"Vic\"/> \\n      <postalCode value=\"3999\"/> \\n    </additionalAddress> \\n    <gender value=\"female\"/> \\n    <period> \\n      <!--    The contact relationship started in 2012    -->\\n      <start value=\"2012\"/> \\n    </period> \\n  </contact> \\n  <managingOrganization> \\n    <reference value=\"Organization/1\"/> \\n  </managingOrganization> \\n</Patient> \\x94.'\n",
        "with open(\"patient.xml\", \"w\") as f:\n",
        "    f.write(pickle.loads(data))\n",
        "\n",
        "\n"
      ]
    },
    {
      "cell_type": "markdown",
      "metadata": {
        "id": "Awq1v2R9lAGA"
      },
      "source": [
        "# Module 19: Files with built-in Python commands"
      ]
    },
    {
      "cell_type": "markdown",
      "metadata": {
        "id": "qTFZE4B1lAGA"
      },
      "source": [
        "## Reading file with `fopen()`\n",
        "\n",
        "The variable 'f' is known as a *file handle*. Consider it a variable holding the information needed to read or write a file."
      ]
    },
    {
      "cell_type": "code",
      "execution_count": null,
      "metadata": {
        "id": "4VKcZxN3lAGB",
        "outputId": "71e2c845-d459-4bc7-d160-30f49378ba74",
        "colab": {
          "base_uri": "https://localhost:8080/"
        }
      },
      "outputs": [
        {
          "output_type": "stream",
          "name": "stdout",
          "text": [
            "Hello World from a text file\n"
          ]
        }
      ],
      "source": [
        "f = open('hello.txt')\n",
        "message = f.read()\n",
        "f.close()\n",
        "print(message)\n"
      ]
    },
    {
      "cell_type": "markdown",
      "metadata": {
        "id": "ibPpPKeOlAGB"
      },
      "source": [
        "## Reading file using `with`\n",
        "\n",
        "The `with` command will automatically close the file after the indented code runs, even if an exception is thrown"
      ]
    },
    {
      "cell_type": "code",
      "execution_count": null,
      "metadata": {
        "id": "eqE-9vEnlAGB",
        "outputId": "94ab9280-742c-4d84-cc03-3623b94ec2c6",
        "colab": {
          "base_uri": "https://localhost:8080/"
        }
      },
      "outputs": [
        {
          "output_type": "stream",
          "name": "stdout",
          "text": [
            "Hello World from a text file\n"
          ]
        }
      ],
      "source": [
        "with open('hello.txt') as f:\n",
        "    message = f.read()\n",
        "\n",
        "print(message)"
      ]
    },
    {
      "cell_type": "markdown",
      "metadata": {
        "id": "VvFR7vK_lAGB"
      },
      "source": [
        "## Write to a file\n",
        "\n",
        "Using a second parameter with a \"w\" (for write) in the `open()` command tells Python that you are going to write to this file"
      ]
    },
    {
      "cell_type": "code",
      "execution_count": null,
      "metadata": {
        "id": "QM-rWbvolAGC"
      },
      "outputs": [],
      "source": [
        "with open(\"hello2.txt\", \"w\") as f:\n",
        "    f.write(\"Hello from a file I created\\n\")"
      ]
    },
    {
      "cell_type": "markdown",
      "metadata": {
        "id": "8IMA0sPYlAGC"
      },
      "source": [
        "## Append to a file\n",
        "\n",
        "Sending an \"a\" (for append) to the `open()` command will append test to the end of a file."
      ]
    },
    {
      "cell_type": "code",
      "execution_count": null,
      "metadata": {
        "id": "GKf7uAGRlAGC"
      },
      "outputs": [],
      "source": [
        "with open(\"Hello2.txt\", \"a\") as f:\n",
        "    f.write(\"Hello again\")"
      ]
    },
    {
      "cell_type": "markdown",
      "metadata": {
        "id": "hbXZmUNClAGC"
      },
      "source": [
        "# Exercise 1 - Write and read your own file\n",
        "\n",
        "First:\n",
        "- Open a file for writing called \"hello3.txt\".\n",
        "- Write the string \"Hello YOUR_NAME\" to the file.\n",
        "- Close the file.\n",
        "\n",
        "Second:\n",
        "- Open the file \"hello3.txt\" for reading.\n",
        "- Read the contents of the file.\n",
        "- Close the file.\n",
        "- Print the contents of the file to the screen.\n",
        "\n"
      ]
    },
    {
      "cell_type": "code",
      "execution_count": null,
      "metadata": {
        "id": "wakBBftMlAGD",
        "outputId": "b872048d-14e5-4750-a720-661ca5bd7386",
        "colab": {
          "base_uri": "https://localhost:8080/"
        }
      },
      "outputs": [
        {
          "output_type": "stream",
          "name": "stdout",
          "text": [
            "Hello Rithwik Raj Suram\n"
          ]
        }
      ],
      "source": [
        "# Your code for Exercise 1 here\n",
        "# Step 1: Write to the file\n",
        "with open(\"hello3.txt\", \"w\") as f:\n",
        "    f.write(\"Hello Rithwik Raj Suram\")\n",
        "# Step 2: Read the file\n",
        "with open(\"hello3.txt\", \"r\") as f:\n",
        "    message = f.read()\n",
        "\n",
        "# Print the content of the file\n",
        "print(message)\n"
      ]
    },
    {
      "cell_type": "markdown",
      "metadata": {
        "id": "11sz89PnlAGD"
      },
      "source": [
        "# Module 20: Working with CSV files"
      ]
    },
    {
      "cell_type": "markdown",
      "metadata": {
        "id": "bTnoWPS2lAGD"
      },
      "source": [
        "## Read from CSV file\n",
        "\n",
        "Note the following in this function:\n",
        "- Looping over reads, one line at a file using the `readline()` command\n",
        "- The `split()` function separates each line into a list using the stated delimiter \",\" (comma) as the separation value\n",
        "- Note that each last value of the list has the value AND a \"\\n\"\n",
        "-- The \"\\n\" is the `new line character` telling the computer to move to a next line when printing\n",
        "-- The `readline()` command does not strip \"extra\" characters at the end of a new line"
      ]
    },
    {
      "cell_type": "code",
      "execution_count": null,
      "metadata": {
        "id": "vzluXRVZlAGD",
        "outputId": "5e963c0c-cd30-4f44-f5eb-47665fed2b64",
        "colab": {
          "base_uri": "https://localhost:8080/"
        }
      },
      "outputs": [
        {
          "output_type": "execute_result",
          "data": {
            "text/plain": [
              "[['Patient ID', 'Name', 'Age', 'Condition', 'Admission Date\\n'],\n",
              " ['1001', 'John Doe', '45', 'Hypertension', '2023-09-01\\n'],\n",
              " ['1002', 'Jane Smith', '34', 'Diabetes', '2023-09-03\\n'],\n",
              " ['1003', 'Alice Johnson', '29', 'Asthma', '2023-09-05\\n'],\n",
              " ['1004', 'Robert Brown', '67', 'COPD', '2023-09-07\\n'],\n",
              " ['1005', 'Maria Garcia', '53', 'Hypertension', '2023-09-10']]"
            ]
          },
          "metadata": {},
          "execution_count": 9
        }
      ],
      "source": [
        "with open(\"sample_patient_data.csv\") as f:\n",
        "    result = []\n",
        "    for line in f:\n",
        "        result.append( line.split(','))\n",
        "\n",
        "result"
      ]
    },
    {
      "cell_type": "markdown",
      "metadata": {
        "id": "caOtrU5GlAGD"
      },
      "source": [
        "## Use `strip()` to remove new line characters from the line"
      ]
    },
    {
      "cell_type": "code",
      "execution_count": null,
      "metadata": {
        "id": "7_uFfcpLlAGD",
        "outputId": "32afeefc-beed-41e7-ac01-12c4321b0a39",
        "colab": {
          "base_uri": "https://localhost:8080/"
        }
      },
      "outputs": [
        {
          "output_type": "execute_result",
          "data": {
            "text/plain": [
              "[['Patient ID', 'Name', 'Age', 'Condition', 'Admission Date'],\n",
              " ['1001', 'John Doe', '45', 'Hypertension', '2023-09-01'],\n",
              " ['1002', 'Jane Smith', '34', 'Diabetes', '2023-09-03'],\n",
              " ['1003', 'Alice Johnson', '29', 'Asthma', '2023-09-05'],\n",
              " ['1004', 'Robert Brown', '67', 'COPD', '2023-09-07'],\n",
              " ['1005', 'Maria Garcia', '53', 'Hypertension', '2023-09-10']]"
            ]
          },
          "metadata": {},
          "execution_count": 10
        }
      ],
      "source": [
        "with open(\"sample_patient_data.csv\") as f:\n",
        "    result = []\n",
        "    for line in f:\n",
        "        clean_line = line.strip()\n",
        "        result.append( clean_line.split(','))\n",
        "\n",
        "result"
      ]
    },
    {
      "cell_type": "markdown",
      "metadata": {
        "id": "4uFY138OlAGD"
      },
      "source": [
        "# Module 20: Using the CSV Reader module"
      ]
    },
    {
      "cell_type": "markdown",
      "metadata": {
        "id": "NXu25JLYlAGD"
      },
      "source": [
        "## Collect list of patients using csv reader\n",
        "\n",
        "Note that the \"header line\" is included as the first element in the list\n",
        "- You might need to remove the header line from the list if that data isn't valuable"
      ]
    },
    {
      "cell_type": "code",
      "execution_count": null,
      "metadata": {
        "id": "-wE5mOZRlAGD",
        "outputId": "831031c8-a077-4f06-cfa5-5894c3457761",
        "colab": {
          "base_uri": "https://localhost:8080/"
        }
      },
      "outputs": [
        {
          "output_type": "execute_result",
          "data": {
            "text/plain": [
              "[['Patient ID', 'Name', 'Age', 'Condition', 'Admission Date'],\n",
              " ['1001', 'John Doe', '45', 'Hypertension', '2023-09-01'],\n",
              " ['1002', 'Jane Smith', '34', 'Diabetes', '2023-09-03'],\n",
              " ['1003', 'Alice Johnson', '29', 'Asthma', '2023-09-05'],\n",
              " ['1004', 'Robert Brown', '67', 'COPD', '2023-09-07'],\n",
              " ['1005', 'Maria Garcia', '53', 'Hypertension', '2023-09-10']]"
            ]
          },
          "metadata": {},
          "execution_count": 11
        }
      ],
      "source": [
        "import csv\n",
        "\n",
        "patients = []\n",
        "with open(\"sample_patient_data.csv\") as f:\n",
        "    csv_reader = csv.reader(f)\n",
        "    for row in csv_reader:\n",
        "        patients.append(row)\n",
        "\n",
        "patients"
      ]
    },
    {
      "cell_type": "markdown",
      "metadata": {
        "id": "5i70o-qolAGD"
      },
      "source": [
        "## Create a list of dictionaries using the `DictReader()` function in the csv module\n",
        "\n",
        "Note that the header line provides the keys for the valus in the dictionaries"
      ]
    },
    {
      "cell_type": "code",
      "execution_count": null,
      "metadata": {
        "id": "ahLN87IVlAGE",
        "outputId": "102ca869-c908-402f-da9e-1ccc062b56c5",
        "colab": {
          "base_uri": "https://localhost:8080/"
        }
      },
      "outputs": [
        {
          "output_type": "execute_result",
          "data": {
            "text/plain": [
              "[{'Patient ID': '1001',\n",
              "  'Name': 'John Doe',\n",
              "  'Age': '45',\n",
              "  'Condition': 'Hypertension',\n",
              "  'Admission Date': '2023-09-01'},\n",
              " {'Patient ID': '1002',\n",
              "  'Name': 'Jane Smith',\n",
              "  'Age': '34',\n",
              "  'Condition': 'Diabetes',\n",
              "  'Admission Date': '2023-09-03'},\n",
              " {'Patient ID': '1003',\n",
              "  'Name': 'Alice Johnson',\n",
              "  'Age': '29',\n",
              "  'Condition': 'Asthma',\n",
              "  'Admission Date': '2023-09-05'},\n",
              " {'Patient ID': '1004',\n",
              "  'Name': 'Robert Brown',\n",
              "  'Age': '67',\n",
              "  'Condition': 'COPD',\n",
              "  'Admission Date': '2023-09-07'},\n",
              " {'Patient ID': '1005',\n",
              "  'Name': 'Maria Garcia',\n",
              "  'Age': '53',\n",
              "  'Condition': 'Hypertension',\n",
              "  'Admission Date': '2023-09-10'}]"
            ]
          },
          "metadata": {},
          "execution_count": 12
        }
      ],
      "source": [
        "import csv\n",
        "\n",
        "patients = []\n",
        "with open(\"sample_patient_data.csv\") as f:\n",
        "    csv_reader = csv.DictReader(f)\n",
        "    for row in csv_reader:\n",
        "        patients.append(row)\n",
        "\n",
        "patients"
      ]
    },
    {
      "cell_type": "markdown",
      "metadata": {
        "id": "ELC_VTu6lAGE"
      },
      "source": [
        "## Use the cvs module to read a pipe delimited file\n",
        "\n",
        "You can tell the cvs module what character, or characters, you want to use at the vaule demiliter"
      ]
    },
    {
      "cell_type": "code",
      "execution_count": null,
      "metadata": {
        "id": "eWIpNEOJlAGE",
        "outputId": "bf17f6d9-8017-40bf-9c4d-fbf180de7f72",
        "colab": {
          "base_uri": "https://localhost:8080/"
        }
      },
      "outputs": [
        {
          "output_type": "execute_result",
          "data": {
            "text/plain": [
              "[['Patient ID', 'Name', 'Age', 'Condition', 'Admission Date'],\n",
              " ['1001', 'John Doe', '45', 'Hypertension', '2023-09-01'],\n",
              " ['1002', 'Jane Smith', '34', 'Diabetes', '2023-09-03'],\n",
              " ['1003', 'Alice Johnson', '29', 'Asthma', '2023-09-05'],\n",
              " ['1004', 'Robert Brown', '67', 'COPD', '2023-09-07'],\n",
              " ['1005', 'Maria Garcia', '53', 'Hypertension', '2023-09-10']]"
            ]
          },
          "metadata": {},
          "execution_count": 13
        }
      ],
      "source": [
        "import csv\n",
        "\n",
        "patients = []\n",
        "with open(\"sample_patient_data.psv\") as f:\n",
        "    csv_reader = csv.reader(f, delimiter=\"|\")\n",
        "    for row in csv_reader:\n",
        "        patients.append(row)\n",
        "\n",
        "patients"
      ]
    },
    {
      "cell_type": "markdown",
      "metadata": {
        "id": "D76aAQAelAGE"
      },
      "source": [
        "# Exercise 2: Convert data types when reading csv file\n",
        "\n",
        "Read the `sample_patient_data.csv` CSV file into memory\n",
        "- The memory should be a list of all patients\n",
        "- Each patient in the list is a list of the fields in that row\n",
        "- The age field should be converted to an integer\n",
        "- The admission date field should be converted to a date data type\n",
        "\n",
        "Hints:\n",
        "- Import the csv module using the command `import csv`\n",
        "- Use the `csv.reader()` command to read the sample_patient_data.csv file\n",
        "- Don't copy the first line of the file, containing the header information, into your list\n",
        "- Convert the Age column to integers\n",
        "    - Calling `int(x)` where x is a string, will return an integer\n",
        "- Convert the Admission Data Column to a datatime type\n",
        "    - Import the Datetime module `from datetime import datetime` at the top of the file\n",
        "    - Convert the string containing the date in the form \"YYYY-MM-DD\" to a date using the command `date = datetime.strptime(date_string, \"%Y-%m-%d\")`"
      ]
    },
    {
      "cell_type": "code",
      "execution_count": null,
      "metadata": {
        "id": "6dTa_XGIlAGE",
        "outputId": "1f8edd15-1297-4801-d47d-9d8ec48ad857",
        "colab": {
          "base_uri": "https://localhost:8080/"
        }
      },
      "outputs": [
        {
          "output_type": "stream",
          "name": "stdout",
          "text": [
            "['1001', 'John Doe', 45, 'Hypertension', datetime.datetime(2023, 9, 1, 0, 0)]\n",
            "['1002', 'Jane Smith', 34, 'Diabetes', datetime.datetime(2023, 9, 3, 0, 0)]\n",
            "['1003', 'Alice Johnson', 29, 'Asthma', datetime.datetime(2023, 9, 5, 0, 0)]\n",
            "['1004', 'Robert Brown', 67, 'COPD', datetime.datetime(2023, 9, 7, 0, 0)]\n",
            "['1005', 'Maria Garcia', 53, 'Hypertension', datetime.datetime(2023, 9, 10, 0, 0)]\n"
          ]
        }
      ],
      "source": [
        "# Your code goes here\n",
        "import csv\n",
        "from datetime import datetime\n",
        "\n",
        "patients = []\n",
        "\n",
        "# Open and read the CSV file\n",
        "with open(\"sample_patient_data.csv\") as f:\n",
        "    csv_reader = csv.reader(f)\n",
        "\n",
        "    # Skip the header\n",
        "    next(csv_reader)\n",
        "\n",
        "    # Process each row\n",
        "    for row in csv_reader:\n",
        "        patient_id = row[0]\n",
        "        name = row[1]\n",
        "\n",
        "        # Convert Age to integer\n",
        "        age = int(row[2])\n",
        "\n",
        "        condition = row[3]\n",
        "\n",
        "        # Convert Admission Date to datetime\n",
        "        admission_date = datetime.strptime(row[4], \"%Y-%m-%d\")\n",
        "\n",
        "        # Append the cleaned-up data to the patients list\n",
        "        patients.append([patient_id, name, age, condition, admission_date])\n",
        "\n",
        "# Display the resulting list of patients\n",
        "for patient in patients:\n",
        "    print(patient)\n"
      ]
    },
    {
      "cell_type": "markdown",
      "metadata": {
        "id": "yWEW9unclAGE"
      },
      "source": [
        "# Module 20: Reading CSV Using Pandas Module"
      ]
    },
    {
      "cell_type": "code",
      "execution_count": null,
      "metadata": {
        "id": "A44ers5OlAGE",
        "outputId": "9a8e05f9-3c40-424a-c302-1c7294bb1112",
        "colab": {
          "base_uri": "https://localhost:8080/",
          "height": 206
        }
      },
      "outputs": [
        {
          "output_type": "execute_result",
          "data": {
            "text/plain": [
              "   Patient ID           Name  Age     Condition Admission Date\n",
              "0        1001       John Doe   45  Hypertension     2023-09-01\n",
              "1        1002     Jane Smith   34      Diabetes     2023-09-03\n",
              "2        1003  Alice Johnson   29        Asthma     2023-09-05\n",
              "3        1004   Robert Brown   67          COPD     2023-09-07\n",
              "4        1005   Maria Garcia   53  Hypertension     2023-09-10"
            ],
            "text/html": [
              "\n",
              "  <div id=\"df-bde4fcba-101a-49cb-8d87-320c346b5bca\" class=\"colab-df-container\">\n",
              "    <div>\n",
              "<style scoped>\n",
              "    .dataframe tbody tr th:only-of-type {\n",
              "        vertical-align: middle;\n",
              "    }\n",
              "\n",
              "    .dataframe tbody tr th {\n",
              "        vertical-align: top;\n",
              "    }\n",
              "\n",
              "    .dataframe thead th {\n",
              "        text-align: right;\n",
              "    }\n",
              "</style>\n",
              "<table border=\"1\" class=\"dataframe\">\n",
              "  <thead>\n",
              "    <tr style=\"text-align: right;\">\n",
              "      <th></th>\n",
              "      <th>Patient ID</th>\n",
              "      <th>Name</th>\n",
              "      <th>Age</th>\n",
              "      <th>Condition</th>\n",
              "      <th>Admission Date</th>\n",
              "    </tr>\n",
              "  </thead>\n",
              "  <tbody>\n",
              "    <tr>\n",
              "      <th>0</th>\n",
              "      <td>1001</td>\n",
              "      <td>John Doe</td>\n",
              "      <td>45</td>\n",
              "      <td>Hypertension</td>\n",
              "      <td>2023-09-01</td>\n",
              "    </tr>\n",
              "    <tr>\n",
              "      <th>1</th>\n",
              "      <td>1002</td>\n",
              "      <td>Jane Smith</td>\n",
              "      <td>34</td>\n",
              "      <td>Diabetes</td>\n",
              "      <td>2023-09-03</td>\n",
              "    </tr>\n",
              "    <tr>\n",
              "      <th>2</th>\n",
              "      <td>1003</td>\n",
              "      <td>Alice Johnson</td>\n",
              "      <td>29</td>\n",
              "      <td>Asthma</td>\n",
              "      <td>2023-09-05</td>\n",
              "    </tr>\n",
              "    <tr>\n",
              "      <th>3</th>\n",
              "      <td>1004</td>\n",
              "      <td>Robert Brown</td>\n",
              "      <td>67</td>\n",
              "      <td>COPD</td>\n",
              "      <td>2023-09-07</td>\n",
              "    </tr>\n",
              "    <tr>\n",
              "      <th>4</th>\n",
              "      <td>1005</td>\n",
              "      <td>Maria Garcia</td>\n",
              "      <td>53</td>\n",
              "      <td>Hypertension</td>\n",
              "      <td>2023-09-10</td>\n",
              "    </tr>\n",
              "  </tbody>\n",
              "</table>\n",
              "</div>\n",
              "    <div class=\"colab-df-buttons\">\n",
              "\n",
              "  <div class=\"colab-df-container\">\n",
              "    <button class=\"colab-df-convert\" onclick=\"convertToInteractive('df-bde4fcba-101a-49cb-8d87-320c346b5bca')\"\n",
              "            title=\"Convert this dataframe to an interactive table.\"\n",
              "            style=\"display:none;\">\n",
              "\n",
              "  <svg xmlns=\"http://www.w3.org/2000/svg\" height=\"24px\" viewBox=\"0 -960 960 960\">\n",
              "    <path d=\"M120-120v-720h720v720H120Zm60-500h600v-160H180v160Zm220 220h160v-160H400v160Zm0 220h160v-160H400v160ZM180-400h160v-160H180v160Zm440 0h160v-160H620v160ZM180-180h160v-160H180v160Zm440 0h160v-160H620v160Z\"/>\n",
              "  </svg>\n",
              "    </button>\n",
              "\n",
              "  <style>\n",
              "    .colab-df-container {\n",
              "      display:flex;\n",
              "      gap: 12px;\n",
              "    }\n",
              "\n",
              "    .colab-df-convert {\n",
              "      background-color: #E8F0FE;\n",
              "      border: none;\n",
              "      border-radius: 50%;\n",
              "      cursor: pointer;\n",
              "      display: none;\n",
              "      fill: #1967D2;\n",
              "      height: 32px;\n",
              "      padding: 0 0 0 0;\n",
              "      width: 32px;\n",
              "    }\n",
              "\n",
              "    .colab-df-convert:hover {\n",
              "      background-color: #E2EBFA;\n",
              "      box-shadow: 0px 1px 2px rgba(60, 64, 67, 0.3), 0px 1px 3px 1px rgba(60, 64, 67, 0.15);\n",
              "      fill: #174EA6;\n",
              "    }\n",
              "\n",
              "    .colab-df-buttons div {\n",
              "      margin-bottom: 4px;\n",
              "    }\n",
              "\n",
              "    [theme=dark] .colab-df-convert {\n",
              "      background-color: #3B4455;\n",
              "      fill: #D2E3FC;\n",
              "    }\n",
              "\n",
              "    [theme=dark] .colab-df-convert:hover {\n",
              "      background-color: #434B5C;\n",
              "      box-shadow: 0px 1px 3px 1px rgba(0, 0, 0, 0.15);\n",
              "      filter: drop-shadow(0px 1px 2px rgba(0, 0, 0, 0.3));\n",
              "      fill: #FFFFFF;\n",
              "    }\n",
              "  </style>\n",
              "\n",
              "    <script>\n",
              "      const buttonEl =\n",
              "        document.querySelector('#df-bde4fcba-101a-49cb-8d87-320c346b5bca button.colab-df-convert');\n",
              "      buttonEl.style.display =\n",
              "        google.colab.kernel.accessAllowed ? 'block' : 'none';\n",
              "\n",
              "      async function convertToInteractive(key) {\n",
              "        const element = document.querySelector('#df-bde4fcba-101a-49cb-8d87-320c346b5bca');\n",
              "        const dataTable =\n",
              "          await google.colab.kernel.invokeFunction('convertToInteractive',\n",
              "                                                    [key], {});\n",
              "        if (!dataTable) return;\n",
              "\n",
              "        const docLinkHtml = 'Like what you see? Visit the ' +\n",
              "          '<a target=\"_blank\" href=https://colab.research.google.com/notebooks/data_table.ipynb>data table notebook</a>'\n",
              "          + ' to learn more about interactive tables.';\n",
              "        element.innerHTML = '';\n",
              "        dataTable['output_type'] = 'display_data';\n",
              "        await google.colab.output.renderOutput(dataTable, element);\n",
              "        const docLink = document.createElement('div');\n",
              "        docLink.innerHTML = docLinkHtml;\n",
              "        element.appendChild(docLink);\n",
              "      }\n",
              "    </script>\n",
              "  </div>\n",
              "\n",
              "\n",
              "<div id=\"df-a9266fe2-7caa-43aa-ad30-40dc27fd3d3b\">\n",
              "  <button class=\"colab-df-quickchart\" onclick=\"quickchart('df-a9266fe2-7caa-43aa-ad30-40dc27fd3d3b')\"\n",
              "            title=\"Suggest charts\"\n",
              "            style=\"display:none;\">\n",
              "\n",
              "<svg xmlns=\"http://www.w3.org/2000/svg\" height=\"24px\"viewBox=\"0 0 24 24\"\n",
              "     width=\"24px\">\n",
              "    <g>\n",
              "        <path d=\"M19 3H5c-1.1 0-2 .9-2 2v14c0 1.1.9 2 2 2h14c1.1 0 2-.9 2-2V5c0-1.1-.9-2-2-2zM9 17H7v-7h2v7zm4 0h-2V7h2v10zm4 0h-2v-4h2v4z\"/>\n",
              "    </g>\n",
              "</svg>\n",
              "  </button>\n",
              "\n",
              "<style>\n",
              "  .colab-df-quickchart {\n",
              "      --bg-color: #E8F0FE;\n",
              "      --fill-color: #1967D2;\n",
              "      --hover-bg-color: #E2EBFA;\n",
              "      --hover-fill-color: #174EA6;\n",
              "      --disabled-fill-color: #AAA;\n",
              "      --disabled-bg-color: #DDD;\n",
              "  }\n",
              "\n",
              "  [theme=dark] .colab-df-quickchart {\n",
              "      --bg-color: #3B4455;\n",
              "      --fill-color: #D2E3FC;\n",
              "      --hover-bg-color: #434B5C;\n",
              "      --hover-fill-color: #FFFFFF;\n",
              "      --disabled-bg-color: #3B4455;\n",
              "      --disabled-fill-color: #666;\n",
              "  }\n",
              "\n",
              "  .colab-df-quickchart {\n",
              "    background-color: var(--bg-color);\n",
              "    border: none;\n",
              "    border-radius: 50%;\n",
              "    cursor: pointer;\n",
              "    display: none;\n",
              "    fill: var(--fill-color);\n",
              "    height: 32px;\n",
              "    padding: 0;\n",
              "    width: 32px;\n",
              "  }\n",
              "\n",
              "  .colab-df-quickchart:hover {\n",
              "    background-color: var(--hover-bg-color);\n",
              "    box-shadow: 0 1px 2px rgba(60, 64, 67, 0.3), 0 1px 3px 1px rgba(60, 64, 67, 0.15);\n",
              "    fill: var(--button-hover-fill-color);\n",
              "  }\n",
              "\n",
              "  .colab-df-quickchart-complete:disabled,\n",
              "  .colab-df-quickchart-complete:disabled:hover {\n",
              "    background-color: var(--disabled-bg-color);\n",
              "    fill: var(--disabled-fill-color);\n",
              "    box-shadow: none;\n",
              "  }\n",
              "\n",
              "  .colab-df-spinner {\n",
              "    border: 2px solid var(--fill-color);\n",
              "    border-color: transparent;\n",
              "    border-bottom-color: var(--fill-color);\n",
              "    animation:\n",
              "      spin 1s steps(1) infinite;\n",
              "  }\n",
              "\n",
              "  @keyframes spin {\n",
              "    0% {\n",
              "      border-color: transparent;\n",
              "      border-bottom-color: var(--fill-color);\n",
              "      border-left-color: var(--fill-color);\n",
              "    }\n",
              "    20% {\n",
              "      border-color: transparent;\n",
              "      border-left-color: var(--fill-color);\n",
              "      border-top-color: var(--fill-color);\n",
              "    }\n",
              "    30% {\n",
              "      border-color: transparent;\n",
              "      border-left-color: var(--fill-color);\n",
              "      border-top-color: var(--fill-color);\n",
              "      border-right-color: var(--fill-color);\n",
              "    }\n",
              "    40% {\n",
              "      border-color: transparent;\n",
              "      border-right-color: var(--fill-color);\n",
              "      border-top-color: var(--fill-color);\n",
              "    }\n",
              "    60% {\n",
              "      border-color: transparent;\n",
              "      border-right-color: var(--fill-color);\n",
              "    }\n",
              "    80% {\n",
              "      border-color: transparent;\n",
              "      border-right-color: var(--fill-color);\n",
              "      border-bottom-color: var(--fill-color);\n",
              "    }\n",
              "    90% {\n",
              "      border-color: transparent;\n",
              "      border-bottom-color: var(--fill-color);\n",
              "    }\n",
              "  }\n",
              "</style>\n",
              "\n",
              "  <script>\n",
              "    async function quickchart(key) {\n",
              "      const quickchartButtonEl =\n",
              "        document.querySelector('#' + key + ' button');\n",
              "      quickchartButtonEl.disabled = true;  // To prevent multiple clicks.\n",
              "      quickchartButtonEl.classList.add('colab-df-spinner');\n",
              "      try {\n",
              "        const charts = await google.colab.kernel.invokeFunction(\n",
              "            'suggestCharts', [key], {});\n",
              "      } catch (error) {\n",
              "        console.error('Error during call to suggestCharts:', error);\n",
              "      }\n",
              "      quickchartButtonEl.classList.remove('colab-df-spinner');\n",
              "      quickchartButtonEl.classList.add('colab-df-quickchart-complete');\n",
              "    }\n",
              "    (() => {\n",
              "      let quickchartButtonEl =\n",
              "        document.querySelector('#df-a9266fe2-7caa-43aa-ad30-40dc27fd3d3b button');\n",
              "      quickchartButtonEl.style.display =\n",
              "        google.colab.kernel.accessAllowed ? 'block' : 'none';\n",
              "    })();\n",
              "  </script>\n",
              "</div>\n",
              "\n",
              "  <div id=\"id_32fa853a-ec5d-4eea-bff3-e4ae57346389\">\n",
              "    <style>\n",
              "      .colab-df-generate {\n",
              "        background-color: #E8F0FE;\n",
              "        border: none;\n",
              "        border-radius: 50%;\n",
              "        cursor: pointer;\n",
              "        display: none;\n",
              "        fill: #1967D2;\n",
              "        height: 32px;\n",
              "        padding: 0 0 0 0;\n",
              "        width: 32px;\n",
              "      }\n",
              "\n",
              "      .colab-df-generate:hover {\n",
              "        background-color: #E2EBFA;\n",
              "        box-shadow: 0px 1px 2px rgba(60, 64, 67, 0.3), 0px 1px 3px 1px rgba(60, 64, 67, 0.15);\n",
              "        fill: #174EA6;\n",
              "      }\n",
              "\n",
              "      [theme=dark] .colab-df-generate {\n",
              "        background-color: #3B4455;\n",
              "        fill: #D2E3FC;\n",
              "      }\n",
              "\n",
              "      [theme=dark] .colab-df-generate:hover {\n",
              "        background-color: #434B5C;\n",
              "        box-shadow: 0px 1px 3px 1px rgba(0, 0, 0, 0.15);\n",
              "        filter: drop-shadow(0px 1px 2px rgba(0, 0, 0, 0.3));\n",
              "        fill: #FFFFFF;\n",
              "      }\n",
              "    </style>\n",
              "    <button class=\"colab-df-generate\" onclick=\"generateWithVariable('data')\"\n",
              "            title=\"Generate code using this dataframe.\"\n",
              "            style=\"display:none;\">\n",
              "\n",
              "  <svg xmlns=\"http://www.w3.org/2000/svg\" height=\"24px\"viewBox=\"0 0 24 24\"\n",
              "       width=\"24px\">\n",
              "    <path d=\"M7,19H8.4L18.45,9,17,7.55,7,17.6ZM5,21V16.75L18.45,3.32a2,2,0,0,1,2.83,0l1.4,1.43a1.91,1.91,0,0,1,.58,1.4,1.91,1.91,0,0,1-.58,1.4L9.25,21ZM18.45,9,17,7.55Zm-12,3A5.31,5.31,0,0,0,4.9,8.1,5.31,5.31,0,0,0,1,6.5,5.31,5.31,0,0,0,4.9,4.9,5.31,5.31,0,0,0,6.5,1,5.31,5.31,0,0,0,8.1,4.9,5.31,5.31,0,0,0,12,6.5,5.46,5.46,0,0,0,6.5,12Z\"/>\n",
              "  </svg>\n",
              "    </button>\n",
              "    <script>\n",
              "      (() => {\n",
              "      const buttonEl =\n",
              "        document.querySelector('#id_32fa853a-ec5d-4eea-bff3-e4ae57346389 button.colab-df-generate');\n",
              "      buttonEl.style.display =\n",
              "        google.colab.kernel.accessAllowed ? 'block' : 'none';\n",
              "\n",
              "      buttonEl.onclick = () => {\n",
              "        google.colab.notebook.generateWithVariable('data');\n",
              "      }\n",
              "      })();\n",
              "    </script>\n",
              "  </div>\n",
              "\n",
              "    </div>\n",
              "  </div>\n"
            ],
            "application/vnd.google.colaboratory.intrinsic+json": {
              "type": "dataframe",
              "variable_name": "data",
              "summary": "{\n  \"name\": \"data\",\n  \"rows\": 5,\n  \"fields\": [\n    {\n      \"column\": \"Patient ID\",\n      \"properties\": {\n        \"dtype\": \"number\",\n        \"std\": 1,\n        \"min\": 1001,\n        \"max\": 1005,\n        \"num_unique_values\": 5,\n        \"samples\": [\n          1002,\n          1005,\n          1003\n        ],\n        \"semantic_type\": \"\",\n        \"description\": \"\"\n      }\n    },\n    {\n      \"column\": \"Name\",\n      \"properties\": {\n        \"dtype\": \"string\",\n        \"num_unique_values\": 5,\n        \"samples\": [\n          \"Jane Smith\",\n          \"Maria Garcia\",\n          \"Alice Johnson\"\n        ],\n        \"semantic_type\": \"\",\n        \"description\": \"\"\n      }\n    },\n    {\n      \"column\": \"Age\",\n      \"properties\": {\n        \"dtype\": \"number\",\n        \"std\": 15,\n        \"min\": 29,\n        \"max\": 67,\n        \"num_unique_values\": 5,\n        \"samples\": [\n          34,\n          53,\n          29\n        ],\n        \"semantic_type\": \"\",\n        \"description\": \"\"\n      }\n    },\n    {\n      \"column\": \"Condition\",\n      \"properties\": {\n        \"dtype\": \"string\",\n        \"num_unique_values\": 4,\n        \"samples\": [\n          \"Diabetes\",\n          \"COPD\",\n          \"Hypertension\"\n        ],\n        \"semantic_type\": \"\",\n        \"description\": \"\"\n      }\n    },\n    {\n      \"column\": \"Admission Date\",\n      \"properties\": {\n        \"dtype\": \"object\",\n        \"num_unique_values\": 5,\n        \"samples\": [\n          \"2023-09-03\",\n          \"2023-09-10\",\n          \"2023-09-05\"\n        ],\n        \"semantic_type\": \"\",\n        \"description\": \"\"\n      }\n    }\n  ]\n}"
            }
          },
          "metadata": {},
          "execution_count": 14
        }
      ],
      "source": [
        "import pandas as pd\n",
        "\n",
        "data = pd.read_csv(\"sample_patient_data.csv\")\n",
        "\n",
        "data"
      ]
    },
    {
      "cell_type": "markdown",
      "metadata": {
        "id": "dz6o9IbGlAGE"
      },
      "source": [
        "# Module 21 JSON Files"
      ]
    },
    {
      "cell_type": "markdown",
      "metadata": {
        "id": "L-y84d1hlAGE"
      },
      "source": [
        "## Read JSON file into memory\n",
        "\n",
        "The JSON module's `load()` command takes the file pointer to a JSON file and returns the memory structure to your variable"
      ]
    },
    {
      "cell_type": "code",
      "execution_count": null,
      "metadata": {
        "id": "Er3p1bkVlAGE",
        "outputId": "3f0cc2eb-268c-46fc-aed9-40d9bf16b641",
        "colab": {
          "base_uri": "https://localhost:8080/"
        }
      },
      "outputs": [
        {
          "output_type": "execute_result",
          "data": {
            "text/plain": [
              "[{'System': 'BJC',\n",
              "  'Hospitals': [{'Beds': 1432, 'Hospital': 'BJC', 'City': 'St. Louis'},\n",
              "   {'Beds': 1187, 'Hospital': 'MOBap', 'City': 'Creve Coeur'}]},\n",
              " {'System': 'SSM',\n",
              "  'Hospitals': [{'Beds': 965, 'Hospital': 'SLUH', 'City': 'St. Louis'}]},\n",
              " {'System': 'Mercy',\n",
              "  'Hospitals': [{'Beds': 983,\n",
              "    'Hospital': 'Mercy STL',\n",
              "    'City': 'Creve Coeur'}]}]"
            ]
          },
          "metadata": {},
          "execution_count": 15
        }
      ],
      "source": [
        "import json\n",
        "\n",
        "with open(\"hospitals.json\") as f:\n",
        "    systems = json.load(f)\n",
        "\n",
        "systems"
      ]
    },
    {
      "cell_type": "markdown",
      "metadata": {
        "id": "as53AiwklAGE"
      },
      "source": []
    },
    {
      "cell_type": "markdown",
      "metadata": {
        "id": "8dOAWSS9lAGE"
      },
      "source": [
        "## Write JSON file into memory\n",
        "\n",
        "The JSON module's `dump()` function takes the open file pointer to a JSON file and write the memory to disk\n",
        "\n",
        "Note: The `dump()` function takes three arguements\n",
        "- First, the memory element to write to file\n",
        "- Second, the file pointer\n",
        "- Third, optionally, the number of spaces to use for each indentation when showing the memory structure"
      ]
    },
    {
      "cell_type": "code",
      "execution_count": null,
      "metadata": {
        "id": "U-I_h-EhlAGE"
      },
      "outputs": [],
      "source": [
        "import json\n",
        "\n",
        "list_to_write_to_disk = [1,2,3,4,5]\n",
        "\n",
        "with open(\"data_to_file.json\", \"w\") as f:\n",
        "    json.dump(list_to_write_to_disk, f, indent=4)\n"
      ]
    },
    {
      "cell_type": "markdown",
      "metadata": {
        "id": "GjoXPwNQlAGE"
      },
      "source": [
        "# Module 22: XML Files"
      ]
    },
    {
      "cell_type": "markdown",
      "metadata": {
        "id": "qVf6aNihlAGF"
      },
      "source": [
        "## Read XML to an object tree"
      ]
    },
    {
      "cell_type": "code",
      "execution_count": null,
      "metadata": {
        "id": "-2X4YEV3lAGF",
        "outputId": "2a92d62c-4222-40b3-9fef-9bd9876d687c",
        "colab": {
          "base_uri": "https://localhost:8080/"
        }
      },
      "outputs": [
        {
          "output_type": "execute_result",
          "data": {
            "text/plain": [
              "<Element {http://hl7.org/fhir}Patient at 0x7941012b6040>"
            ]
          },
          "metadata": {},
          "execution_count": 17
        }
      ],
      "source": [
        "from lxml import objectify\n",
        "\n",
        "with open(\"patient.xml\") as f:\n",
        "    xml = objectify.parse(f)\n",
        "\n",
        "patient = xml.getroot()\n",
        "\n",
        "patient\n"
      ]
    },
    {
      "cell_type": "code",
      "execution_count": null,
      "metadata": {
        "id": "s8ZNGt-8lAGF",
        "outputId": "19b201d8-6139-46de-f187-0b737c8d14a2",
        "colab": {
          "base_uri": "https://localhost:8080/"
        }
      },
      "outputs": [
        {
          "output_type": "stream",
          "name": "stdout",
          "text": [
            "{http://hl7.org/fhir}id:{'value': 'example'}\n",
            "comment:{}\n",
            "{http://hl7.org/fhir}identifier:{}\n",
            "{http://hl7.org/fhir}active:{'value': 'true'}\n",
            "comment:{}\n",
            "{http://hl7.org/fhir}name:{}\n",
            "{http://hl7.org/fhir}name:{}\n",
            "{http://hl7.org/fhir}name:{}\n",
            "comment:{}\n",
            "{http://hl7.org/fhir}telecom:{}\n",
            "{http://hl7.org/fhir}telecom:{}\n",
            "{http://hl7.org/fhir}telecom:{}\n",
            "{http://hl7.org/fhir}telecom:{}\n",
            "comment:{}\n",
            "{http://hl7.org/fhir}gender:{'value': 'male'}\n",
            "{http://hl7.org/fhir}birthDate:{'value': '1974-12-25'}\n",
            "{http://hl7.org/fhir}deceasedBoolean:{'value': 'false'}\n",
            "{http://hl7.org/fhir}address:{}\n",
            "{http://hl7.org/fhir}contact:{}\n",
            "{http://hl7.org/fhir}managingOrganization:{}\n"
          ]
        }
      ],
      "source": [
        "for child in patient.getchildren():\n",
        "    print(child.tag + \":\" + str(child.attrib))\n"
      ]
    },
    {
      "cell_type": "markdown",
      "metadata": {
        "id": "pZmdPQLalAGJ"
      },
      "source": [
        "## XPath\n"
      ]
    },
    {
      "cell_type": "code",
      "execution_count": null,
      "metadata": {
        "id": "NgN75jwQlAGJ",
        "outputId": "cadb5978-eaed-4a6a-9cb7-dfdc82dfa0dc",
        "colab": {
          "base_uri": "https://localhost:8080/"
        }
      },
      "outputs": [
        {
          "output_type": "stream",
          "name": "stdout",
          "text": [
            "Address city: PleasantVille\n"
          ]
        }
      ],
      "source": [
        "ns = {\"fhir\": \"http://hl7.org/fhir\"}\n",
        "\n",
        "for address in patient.findall('fhir:address', namespaces=ns):\n",
        "    city = address.find(\"fhir:city\", namespaces=ns)\n",
        "    print(\"Address city: \" + city.attrib.get('value'))\n"
      ]
    }
  ],
  "metadata": {
    "kernelspec": {
      "display_name": "Python 3 (ipykernel)",
      "language": "python",
      "name": "python3"
    },
    "language_info": {
      "codemirror_mode": {
        "name": "ipython",
        "version": 3
      },
      "file_extension": ".py",
      "mimetype": "text/x-python",
      "name": "python",
      "nbconvert_exporter": "python",
      "pygments_lexer": "ipython3",
      "version": "3.9.6"
    },
    "colab": {
      "provenance": [],
      "include_colab_link": true
    }
  },
  "nbformat": 4,
  "nbformat_minor": 0
}